{
 "cells": [
  {
   "cell_type": "markdown",
   "metadata": {},
   "source": [
    "# TCM 21\n",
    "\n",
    "Run the cell below to import packages and set plotting options."
   ]
  },
  {
   "cell_type": "code",
   "execution_count": 1,
   "metadata": {},
   "outputs": [],
   "source": [
    "from datascience import *\n",
    "\n",
    "import numpy as np\n",
    "import matplotlib\n",
    "import matplotlib.pyplot as plt\n",
    "\n",
    "plt.style.use('fivethirtyeight')\n",
    "%matplotlib inline"
   ]
  },
  {
   "cell_type": "markdown",
   "metadata": {},
   "source": [
    "## 1. Confidence Intervals\n",
    "\n",
    "### 1.1. Employment Data from the City of Durham\n",
    "\n",
    "The following code will read in a table that contains a random sample of 200 workers from the City of Durham. \n",
    "\n",
    "**Example 1.** Run the cell below to load the file `durham_city_employees.csv` as a table."
   ]
  },
  {
   "cell_type": "code",
   "execution_count": 2,
   "metadata": {},
   "outputs": [
    {
     "data": {
      "text/html": [
       "<table border=\"1\" class=\"dataframe\">\n",
       "    <thead>\n",
       "        <tr>\n",
       "            <th>SALARY</th> <th>TITLE</th> <th>DEPARTMENT</th>\n",
       "        </tr>\n",
       "    </thead>\n",
       "    <tbody>\n",
       "        <tr>\n",
       "            <td>39224.3</td> <td>TECHNICIAN                    </td> <td>PUBLIC WORKS      </td>\n",
       "        </tr>\n",
       "        <tr>\n",
       "            <td>57210.7</td> <td>POLICE SERGEANT               </td> <td>POLICE            </td>\n",
       "        </tr>\n",
       "        <tr>\n",
       "            <td>41250.3</td> <td>FIRE TECHNICIAN               </td> <td>FIRE              </td>\n",
       "        </tr>\n",
       "        <tr>\n",
       "            <td>35668.7</td> <td>CREW CHIEF II                 </td> <td>WATER MANAGEMENT  </td>\n",
       "        </tr>\n",
       "        <tr>\n",
       "            <td>15496  </td> <td>COUNSELOR ASST SPEC           </td> <td>PARKS & RECREATION</td>\n",
       "        </tr>\n",
       "        <tr>\n",
       "            <td>64754  </td> <td>POLICE LIEUTENANT             </td> <td>POLICE            </td>\n",
       "        </tr>\n",
       "        <tr>\n",
       "            <td>70145.1</td> <td>POLICE LIEUTENANT             </td> <td>POLICE            </td>\n",
       "        </tr>\n",
       "        <tr>\n",
       "            <td>39285.9</td> <td>FIREFIGHTER                   </td> <td>FIRE              </td>\n",
       "        </tr>\n",
       "        <tr>\n",
       "            <td>76125  </td> <td>ASST DIRECTOR GENERAL SERVICES</td> <td>GENERAL SERVICES  </td>\n",
       "        </tr>\n",
       "        <tr>\n",
       "            <td>68223.1</td> <td>POLICE CAPTAIN                </td> <td>POLICE            </td>\n",
       "        </tr>\n",
       "    </tbody>\n",
       "</table>\n",
       "<p>... (190 rows omitted)</p>"
      ],
      "text/plain": [
       "SALARY  | TITLE                          | DEPARTMENT\n",
       "39224.3 | TECHNICIAN                     | PUBLIC WORKS\n",
       "57210.7 | POLICE SERGEANT                | POLICE\n",
       "41250.3 | FIRE TECHNICIAN                | FIRE\n",
       "35668.7 | CREW CHIEF II                  | WATER MANAGEMENT\n",
       "15496   | COUNSELOR ASST SPEC            | PARKS & RECREATION\n",
       "64754   | POLICE LIEUTENANT              | POLICE\n",
       "70145.1 | POLICE LIEUTENANT              | POLICE\n",
       "39285.9 | FIREFIGHTER                    | FIRE\n",
       "76125   | ASST DIRECTOR GENERAL SERVICES | GENERAL SERVICES\n",
       "68223.1 | POLICE CAPTAIN                 | POLICE\n",
       "... (190 rows omitted)"
      ]
     },
     "execution_count": 2,
     "metadata": {},
     "output_type": "execute_result"
    }
   ],
   "source": [
    "sample_employees = Table().read_table('durham_city_employees.csv')\n",
    "sample_employees"
   ]
  },
  {
   "cell_type": "markdown",
   "metadata": {},
   "source": [
    "**Example 2.** Run the cell below will generate a histogram that shows the distribution of salaries from the sample."
   ]
  },
  {
   "cell_type": "code",
   "execution_count": 3,
   "metadata": {},
   "outputs": [
    {
     "data": {
      "image/png": "[encoded data removed]",
      "text/plain": [
       "<Figure size 432x288 with 1 Axes>"
      ]
     },
     "metadata": {
      "needs_background": "light"
     },
     "output_type": "display_data"
    }
   ],
   "source": [
    "sample_employees.hist('SALARY', unit = \"Dollars\")"
   ]
  },
  {
   "cell_type": "markdown",
   "metadata": {},
   "source": [
    "The `percentile()` function returns returns the *p*th percentile of the input array (the value that is at least as great as *p*$\\%$ of the values in the array)\n",
    "\n",
    "**Example 3.** Use the `percentile()` function to find the salary that is greater than or equal to 50% of the employees in the sample."
   ]
  },
  {
   "cell_type": "code",
   "execution_count": 4,
   "metadata": {},
   "outputs": [
    {
     "data": {
      "text/plain": [
       "40048.84"
      ]
     },
     "execution_count": 4,
     "metadata": {},
     "output_type": "execute_result"
    }
   ],
   "source": [
    "percentile(50, sample_employees.column('SALARY'))"
   ]
  },
  {
   "cell_type": "markdown",
   "metadata": {},
   "source": [
    "The `median` function from the `numpy` package will reutrn the median from an array of numbers.\n",
    "\n",
    "**Example 4.** Use the `np.median()` function to find the median salary of the employees in the sample."
   ]
  },
  {
   "cell_type": "code",
   "execution_count": 5,
   "metadata": {},
   "outputs": [
    {
     "data": {
      "text/plain": [
       "40103.96"
      ]
     },
     "execution_count": 5,
     "metadata": {},
     "output_type": "execute_result"
    }
   ],
   "source": [
    "np.median(sample_employees.column('SALARY'))"
   ]
  },
  {
   "cell_type": "markdown",
   "metadata": {
    "deletable": false,
    "editable": false
   },
   "source": [
    "<!-- BEGIN QUESTION -->\n",
    "\n",
    "**Question 1.** Why do you think the value in **Example 3.** is different from the value in **Example 4.**?\n",
    "\n",
    "<!--\n",
    "BEGIN QUESTION\n",
    "name: q1\n",
    "manual: true\n",
    "-->"
   ]
  },
  {
   "cell_type": "markdown",
   "metadata": {},
   "source": [
    "_Type your answer here, replacing this text._"
   ]
  },
  {
   "cell_type": "markdown",
   "metadata": {},
   "source": [
    "<!-- END QUESTION -->\n",
    "\n",
    "\n",
    "\n",
    "### 1.2. The Goal\n",
    "\n",
    "We'd like to know what the median salary is for **all** workers from the City of Durham, not just from our sample of 200 workers. This particular sample may vary depending on which 200 workers are selected. We will resample our sample from the population to determine a measure of how variable the median might be, and then build an interval that we feel the true median of the population should be between.\n",
    "\n",
    "### 1.2.1. Resampling\n",
    "\n",
    "By using the `np.median()` function we can sample our sample from the population. \n",
    "\n",
    "**Example 5.**  Run the cell below a few times, then answer **Question 2.**."
   ]
  },
  {
   "cell_type": "code",
   "execution_count": 7,
   "metadata": {},
   "outputs": [
    {
     "data": {
      "text/plain": [
       "40284.744999999995"
      ]
     },
     "execution_count": 7,
     "metadata": {},
     "output_type": "execute_result"
    }
   ],
   "source": [
    "np.median(sample_employees.sample(with_replacement = True).column('SALARY'))"
   ]
  },
  {
   "cell_type": "markdown",
   "metadata": {
    "deletable": false,
    "editable": false
   },
   "source": [
    "**Question 2.** Create an array named `medians` that contains the median of 1000 samples (`with_replacement`) of the `sample_employees` table.\n",
    "\n",
    "<!--\n",
    "BEGIN QUESTION\n",
    "name: q2\n",
    "manual: false\n",
    "-->"
   ]
  },
  {
   "cell_type": "code",
   "execution_count": 10,
   "metadata": {},
   "outputs": [],
   "source": [
    "medians = make_array()\n",
    "repetitions = 1000\n",
    "\n",
    "for _ in np.arange(1000):\n",
    "    medians = np.append(medians, np.median(sample_employees.sample(with_replacement = True).column('SALARY')))"
   ]
  },
  {
   "cell_type": "code",
   "execution_count": 9,
   "metadata": {
    "deletable": false,
    "editable": false
   },
   "outputs": [
    {
     "ename": "NameError",
     "evalue": "name 'grader' is not defined",
     "output_type": "error",
     "traceback": [
      "\u001b[1;31m---------------------------------------------------------------------------\u001b[0m",
      "\u001b[1;31mNameError\u001b[0m                                 Traceback (most recent call last)",
      "\u001b[1;32m<ipython-input-9-126f59167192>\u001b[0m in \u001b[0;36m<module>\u001b[1;34m\u001b[0m\n\u001b[1;32m----> 1\u001b[1;33m \u001b[0mgrader\u001b[0m\u001b[1;33m.\u001b[0m\u001b[0mcheck\u001b[0m\u001b[1;33m(\u001b[0m\u001b[1;34m\"q2\"\u001b[0m\u001b[1;33m)\u001b[0m\u001b[1;33m\u001b[0m\u001b[1;33m\u001b[0m\u001b[0m\n\u001b[0m",
      "\u001b[1;31mNameError\u001b[0m: name 'grader' is not defined"
     ]
    }
   ],
   "source": [
    "grader.check(\"q2\")"
   ]
  },
  {
   "cell_type": "markdown",
   "metadata": {},
   "source": [
    "**Example 6.** Run the cell below to plot the empirical distribution of the medians of the 1000 samples of our sample."
   ]
  },
  {
   "cell_type": "code",
   "execution_count": 9,
   "metadata": {},
   "outputs": [],
   "source": [
    "Table().with_column('Medians', medians).hist()"
   ]
  },
  {
   "cell_type": "markdown",
   "metadata": {
    "deletable": false,
    "editable": false
   },
   "source": [
    "**Question 3.** What is the interval that contains 95% of the medians?\n",
    "\n",
    "<!--\n",
    "BEGIN QUESTION\n",
    "name: q3\n",
    "manual: false\n",
    "-->"
   ]
  },
  {
   "cell_type": "code",
   "execution_count": 10,
   "metadata": {},
   "outputs": [],
   "source": [
    "lower_bound = percentile(..., medians)\n",
    "upper_bound = percentile(..., medians)\n",
    "print('The 95% confidence interval starts at',lower_bound ,'and goes to', upper_bound)"
   ]
  },
  {
   "cell_type": "code",
   "execution_count": null,
   "metadata": {
    "deletable": false,
    "editable": false
   },
   "outputs": [],
   "source": [
    "grader.check(\"q3\")"
   ]
  },
  {
   "cell_type": "markdown",
   "metadata": {},
   "source": [
    "**Example 7.** Let's visualize our emperical distribution using a histogram with the 95% confidence interval overlayed."
   ]
  },
  {
   "cell_type": "code",
   "execution_count": 13,
   "metadata": {},
   "outputs": [],
   "source": [
    "Table().with_column('Resampled Medians', medians).hist()\n",
    "plt.plot([lower_bound, upper_bound], [0, 0], color = 'gold', lw = 15);"
   ]
  },
  {
   "cell_type": "markdown",
   "metadata": {},
   "source": [
    "## 2. A/B Testing\n",
    "\n",
    "The following code will read in a table that contains a the birth weights of babies delivered from smoking and non-smoking mothers. \n",
    "\n",
    "**Example 8.** Run the cell below to load the file `birth_weights.csv` as a table."
   ]
  },
  {
   "cell_type": "code",
   "execution_count": 14,
   "metadata": {},
   "outputs": [],
   "source": [
    "birth_weights = Table.read_table('birth_weights.csv')\n",
    "birth_weights"
   ]
  },
  {
   "cell_type": "markdown",
   "metadata": {
    "deletable": false,
    "editable": false
   },
   "source": [
    "<!-- BEGIN QUESTION -->\n",
    "\n",
    "### 2.1. The Goal\n",
    "\n",
    "We want to determine if there is an association between smoking and the birth weight of a baby?\n",
    "\n",
    "**Question 4.** Do you think the birth weight of the baby was effected by whether or not thte mother smoked?\n",
    "\n",
    "<!--\n",
    "BEGIN QUESTION\n",
    "name: q4\n",
    "manual: true\n",
    "-->"
   ]
  },
  {
   "cell_type": "markdown",
   "metadata": {},
   "source": [
    "_Type your answer here, replacing this text._"
   ]
  },
  {
   "cell_type": "markdown",
   "metadata": {
    "deletable": false,
    "editable": false
   },
   "source": [
    "<!-- END QUESTION -->\n",
    "\n",
    "<!-- BEGIN QUESTION -->\n",
    "\n",
    "**Question 5.** Make a table named `smoking_and_birthweight` that contains `Maternal Smoker` and `Birth Weight` columns from the `birth_weights` table.\n",
    "\n",
    "<!--\n",
    "BEGIN QUESTION\n",
    "name: q5\n",
    "manual: true\n",
    "-->"
   ]
  },
  {
   "cell_type": "code",
   "execution_count": 15,
   "metadata": {},
   "outputs": [],
   "source": [
    "smoking_and_birthweight = birth_weights.select('...', '...')\n",
    "smoking_and_birthweight"
   ]
  },
  {
   "cell_type": "markdown",
   "metadata": {
    "deletable": false,
    "editable": false
   },
   "source": [
    "<!-- END QUESTION -->\n",
    "\n",
    "**Question 6.** How many smokers and non-smokers are in the study?\n",
    "\n",
    "<!--\n",
    "BEGIN QUESTION\n",
    "name: q6\n",
    "manual: false\n",
    "-->"
   ]
  },
  {
   "cell_type": "code",
   "execution_count": 16,
   "metadata": {},
   "outputs": [],
   "source": [
    "maternal_smoker = smoking_and_birthweight.where('...', True).num_rows\n",
    "maternal_nonsmoker = smoking_and_birthweight.num_rows - maternal_smoker\n",
    "print('There are',maternal_smoker,'smokers and',maternal_nonsmoker,'non-smokers in the study.')"
   ]
  },
  {
   "cell_type": "code",
   "execution_count": null,
   "metadata": {
    "deletable": false,
    "editable": false
   },
   "outputs": [],
   "source": [
    "grader.check(\"q6\")"
   ]
  },
  {
   "cell_type": "markdown",
   "metadata": {},
   "source": [
    "**Example 9.** Make a histogram of the birth wieghts of the babies of the smokers."
   ]
  },
  {
   "cell_type": "code",
   "execution_count": 19,
   "metadata": {},
   "outputs": [],
   "source": [
    "smoking_and_birthweight.where('Maternal Smoker', True).hist('Birth Weight')"
   ]
  },
  {
   "cell_type": "markdown",
   "metadata": {},
   "source": [
    "**Example 10.** Make a histogram of the birth wieghts of the babies of the non-smokers."
   ]
  },
  {
   "cell_type": "code",
   "execution_count": 20,
   "metadata": {},
   "outputs": [],
   "source": [
    "smoking_and_birthweight.where('Maternal Smoker', False).hist('Birth Weight')"
   ]
  },
  {
   "cell_type": "markdown",
   "metadata": {},
   "source": [
    "**Example 11.** Let's overlay the histograms from **Example 9.** and **Example 10.**."
   ]
  },
  {
   "cell_type": "code",
   "execution_count": 21,
   "metadata": {},
   "outputs": [],
   "source": [
    "import warnings\n",
    "warnings.simplefilter('ignore', FutureWarning)\n",
    "warnings.filterwarnings(\"ignore\", message = \"Creating an ndarray from ragged\")\n",
    "\n",
    "smoking_and_birthweight.hist('Birth Weight', group = 'Maternal Smoker')"
   ]
  },
  {
   "cell_type": "markdown",
   "metadata": {
    "deletable": false,
    "editable": false
   },
   "source": [
    "<!-- BEGIN QUESTION -->\n",
    "\n",
    "**Question 7.** What is the average birth weight for the smokers and the non-smokers?\n",
    "\n",
    "<!--\n",
    "BEGIN QUESTION\n",
    "name: q7\n",
    "manual: true\n",
    "-->"
   ]
  },
  {
   "cell_type": "code",
   "execution_count": 22,
   "metadata": {},
   "outputs": [],
   "source": [
    "avg_birthweight = smoking_and_birthweight.group('...', np.average)\n",
    "avg_birthweight"
   ]
  },
  {
   "cell_type": "code",
   "execution_count": null,
   "metadata": {
    "deletable": false,
    "editable": false
   },
   "outputs": [],
   "source": [
    "grader.check(\"q7\")"
   ]
  },
  {
   "cell_type": "markdown",
   "metadata": {
    "deletable": false,
    "editable": false
   },
   "source": [
    "<!-- END QUESTION -->\n",
    "\n",
    "**Question 8.** What is the difference between the average birth weight between the smokers and non-smokers?\n",
    "\n",
    "<!--\n",
    "BEGIN QUESTION\n",
    "name: q8\n",
    "manual: false\n",
    "-->"
   ]
  },
  {
   "cell_type": "code",
   "execution_count": 25,
   "metadata": {},
   "outputs": [],
   "source": [
    "diff_btween_avg_birthweight = avg_birthweight.column('...').item(0)- avg_birthweight.column('...').item(1)\n",
    "diff_btween_avg_birthweight"
   ]
  },
  {
   "cell_type": "code",
   "execution_count": null,
   "metadata": {
    "deletable": false,
    "editable": false
   },
   "outputs": [],
   "source": [
    "grader.check(\"q8\")"
   ]
  },
  {
   "cell_type": "markdown",
   "metadata": {
    "deletable": false,
    "editable": false
   },
   "source": [
    "<!-- BEGIN QUESTION -->\n",
    "\n",
    "### 2.2. A Difference in the Mean \n",
    "\n",
    "What is the cause of this difference? Would the difference in our sample be the same for the population? Could the difference be due to chance alone? What would be a good test statistic? \n",
    "\n",
    "Let's investigate.\n",
    "\n",
    "**Question 9.** Write the Null and the Alternative Hypotheses.\n",
    "\n",
    "<!--\n",
    "BEGIN QUESTION\n",
    "name: q9\n",
    "manual: true\n",
    "-->"
   ]
  },
  {
   "cell_type": "markdown",
   "metadata": {},
   "source": [
    "_Type your answer here, replacing this text._"
   ]
  },
  {
   "cell_type": "markdown",
   "metadata": {},
   "source": [
    "<!-- END QUESTION -->\n",
    "\n",
    "\n",
    "\n",
    "Let's do the following:\n",
    "\n",
    "    \n",
    "1. Make an array of shuffled weights.\n",
    "    \n",
    "2. Make a table with the shuffled weights assigned to the group lables.\n",
    "    \n",
    "3. Make an array of means of the two groups (smoker and non-smoker).\n",
    "    \n",
    "4. Calculate the difference between the means of the two groups."
   ]
  },
  {
   "cell_type": "markdown",
   "metadata": {
    "deletable": false,
    "editable": false
   },
   "source": [
    "<!-- BEGIN QUESTION -->\n",
    "\n",
    "**Question 10.** Create a table named `weights` that only has one column with the wieghts for each baby in the sample.\n",
    "\n",
    "<!--\n",
    "BEGIN QUESTION\n",
    "name: q10\n",
    "manual: true\n",
    "-->"
   ]
  },
  {
   "cell_type": "code",
   "execution_count": 27,
   "metadata": {},
   "outputs": [],
   "source": [
    "weights = birth_weights.select('...')\n",
    "weights"
   ]
  },
  {
   "cell_type": "markdown",
   "metadata": {},
   "source": [
    "<!-- END QUESTION -->\n",
    "\n",
    "\n",
    "\n",
    "If we use the `.sample` method and do not specify a sample amount the values in the column will be shuffled.\n",
    "\n",
    "**Example 11.** Run the cell below to shuffle the weights."
   ]
  },
  {
   "cell_type": "code",
   "execution_count": 28,
   "metadata": {},
   "outputs": [],
   "source": [
    "shuffled_weights = weights.sample(with_replacement = False)\n",
    "shuffled_weights"
   ]
  },
  {
   "cell_type": "markdown",
   "metadata": {
    "deletable": false,
    "editable": false
   },
   "source": [
    "<!-- BEGIN QUESTION -->\n",
    "\n",
    "**Question 11.** Create a table named `shuffled_birthweight_table` that has the column names `Maternal Smoker`, `Shuffled Weight`, and `Original Weight`.\n",
    "\n",
    "<!--\n",
    "BEGIN QUESTION\n",
    "name: q11\n",
    "manual: true\n",
    "-->"
   ]
  },
  {
   "cell_type": "code",
   "execution_count": 29,
   "metadata": {},
   "outputs": [],
   "source": [
    "shuffled_weights = weights.sample(with_replacement = False)\n",
    "shuffled_birthweight_table = Table().with_columns('...', birth_weights.column('Maternal Smoker'),\n",
    "                                                  '...', shuffled_weights.column('Birth Weight'),\n",
    "                                                  '...', weights.column('Birth Weight')\n",
    "                                                 )\n",
    "shuffled_birthweight_table"
   ]
  },
  {
   "cell_type": "markdown",
   "metadata": {
    "deletable": false,
    "editable": false
   },
   "source": [
    "<!-- END QUESTION -->\n",
    "\n",
    "<!-- BEGIN QUESTION -->\n",
    "\n",
    "**Question 12.** Make an array named `birth_weight_means` that contains the averages of the two groups (smoker and non-smoker).\n",
    "\n",
    "<!--\n",
    "BEGIN QUESTION\n",
    "name: q12\n",
    "manual: true\n",
    "-->"
   ]
  },
  {
   "cell_type": "code",
   "execution_count": 30,
   "metadata": {},
   "outputs": [],
   "source": [
    "birth_weight_means = shuffled_birthweight_table.group('...', np.average)\n",
    "birth_weight_means"
   ]
  },
  {
   "cell_type": "markdown",
   "metadata": {},
   "source": [
    "<!-- END QUESTION -->\n",
    "\n",
    "\n",
    "\n",
    "Now let's find the difference in the average brith weight between smokers and non-smokers in the table with the shuffled weights.\n",
    "\n",
    "**Example 12.** Run the cell below."
   ]
  },
  {
   "cell_type": "code",
   "execution_count": 31,
   "metadata": {},
   "outputs": [],
   "source": [
    "sample_diff = birth_weight_means.column(1).item(0)-birth_weight_means.column(1).item(1)\n",
    "sample_diff"
   ]
  },
  {
   "cell_type": "markdown",
   "metadata": {},
   "source": [
    "**Example 13.** Run a simulation to make a table of 5000 sample differeces, make a histogram, and then plot the observed value (i.e. the value of `diff_btween_avg_birthweight`)."
   ]
  },
  {
   "cell_type": "code",
   "execution_count": 32,
   "metadata": {},
   "outputs": [],
   "source": [
    "shuffled_weights_table = Table().with_column('Maternal Smoker', birth_weights.column('Maternal Smoker')) \n",
    "\n",
    "differences = make_array()\n",
    "repetitions = 1000\n",
    "\n",
    "for _ in np.arange(repetitions):\n",
    "    shuffled_weights = weights.sample(with_replacement = False).column('Birth Weight')\n",
    "    shuffled_weights_table = shuffled_weights_table.with_columns('Shuffled Weight', shuffled_weights) \n",
    "    birth_weight_means = shuffled_weights_table.group('Maternal Smoker', np.average).column(1)\n",
    "    new_diff = birth_weight_means.item(0)-birth_weight_means.item(1)\n",
    "    differences = np.append(differences, new_diff)\n",
    "\n",
    "Table().with_column('Mean Difference', differences).hist()\n",
    "plt.scatter(diff_btween_avg_birthweight, 0.01, color = 'red', s = 50);"
   ]
  },
  {
   "cell_type": "markdown",
   "metadata": {
    "deletable": false,
    "editable": false
   },
   "source": [
    "<!-- BEGIN QUESTION -->\n",
    "\n",
    "**Question 14.** Use the plot from **Example 13.** to determine whether the observed statistic in the sample supports the null or the alternative hypothesis. \n",
    "\n",
    "<!--\n",
    "BEGIN QUESTION\n",
    "name: q14\n",
    "manual: true\n",
    "-->"
   ]
  },
  {
   "cell_type": "markdown",
   "metadata": {},
   "source": [
    "_Type your answer here, replacing this text._"
   ]
  },
  {
   "cell_type": "markdown",
   "metadata": {
    "deletable": false,
    "editable": false
   },
   "source": [
    "---\n",
    "\n",
    "To double-check your work, the cell below will rerun all of the autograder tests."
   ]
  },
  {
   "cell_type": "code",
   "execution_count": null,
   "metadata": {
    "deletable": false,
    "editable": false
   },
   "outputs": [],
   "source": [
    "grader.check_all()"
   ]
  },
  {
   "cell_type": "markdown",
   "metadata": {
    "deletable": false,
    "editable": false
   },
   "source": [
    "## Submission\n",
    "\n",
    "Make sure you have run all cells in your notebook in order before running the cell below, so that all images/graphs appear in the output. The cell below will generate a zip file for you to submit. **Please save before exporting!**\n",
    "\n",
    "When done exporting, download the .zip file by `SHIFT`-clicking on the file name and selecting **Save Link As**. Or, find the .zip file in the left side of the screen and right-click and select **Download**. You'll submit this .zip file for the assignment in Canvas to Gradescope for grading."
   ]
  },
  {
   "cell_type": "code",
   "execution_count": null,
   "metadata": {
    "deletable": false,
    "editable": false
   },
   "outputs": [],
   "source": [
    "# Save your notebook first, then run this cell to export your submission.\n",
    "grader.export(\"tcm.ipynb\")"
   ]
  },
  {
   "cell_type": "markdown",
   "metadata": {},
   "source": [
    " "
   ]
  }
 ],
 "metadata": {
  "kernelspec": {
   "display_name": "Python 3",
   "language": "python",
   "name": "python3"
  },
  "language_info": {
   "codemirror_mode": {
    "name": "ipython",
    "version": 3
   },
   "file_extension": ".py",
   "mimetype": "text/x-python",
   "name": "python",
   "nbconvert_exporter": "python",
   "pygments_lexer": "ipython3",
   "version": "3.7.3"
  }
 },
 "nbformat": 4,
 "nbformat_minor": 4
}
