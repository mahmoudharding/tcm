{
 "cells": [
  {
   "cell_type": "markdown",
   "metadata": {},
   "source": [
    "<center><h1>Mathematics with Python</h1></center>\n",
    "<center><h2>Teaching Contemporary Mathematics Conference</h2></center>\n",
    "<center><h2>The North Carolina School of Science and Mathematics</h2></center>  \n",
    "</br>\n",
    "<center><h3>Mahmoud Harding</h3></center>\n",
    "<center><h3>January 25, 2020</h3></center>"
   ]
  },
  {
   "cell_type": "markdown",
   "metadata": {},
   "source": [
    "# A Minimal Introduction to Python"
   ]
  },
  {
   "cell_type": "markdown",
   "metadata": {},
   "source": [
    "## Basic Mathematical Operations\n",
    "\n",
    "Python can perform all the basic mathematical operations of a scientific calculator. Just type in a mathematical expression, press enter, Python will evaluate it and print the result to the screen."
   ]
  },
  {
   "cell_type": "code",
   "execution_count": null,
   "metadata": {},
   "outputs": [],
   "source": [
    "# Addition with integers\n",
    "2 + 3"
   ]
  },
  {
   "cell_type": "code",
   "execution_count": null,
   "metadata": {},
   "outputs": [],
   "source": [
    "# Addition with an integer and a float\n",
    "2 + 3.14"
   ]
  },
  {
   "cell_type": "code",
   "execution_count": null,
   "metadata": {},
   "outputs": [],
   "source": [
    "# Subtraction with an integer and a float\n",
    "2 - 3.14"
   ]
  },
  {
   "cell_type": "code",
   "execution_count": null,
   "metadata": {},
   "outputs": [],
   "source": [
    "# Multiplication\n",
    "2 * 3"
   ]
  },
  {
   "cell_type": "code",
   "execution_count": null,
   "metadata": {},
   "outputs": [],
   "source": [
    "# Division\n",
    "3/2"
   ]
  },
  {
   "cell_type": "code",
   "execution_count": 31,
   "metadata": {},
   "outputs": [
    {
     "name": "stdout",
     "output_type": "stream",
     "text": [
      "2 cubed is 8\n",
      "The square root of 2 is 1.4142\n",
      "The cube root of 8 is 2\n"
     ]
    }
   ],
   "source": [
    "# Exponents\n",
    "print('2 cubed is', 2 ** 3)\n",
    "\n",
    "# The round function is used to round to 4 decimal places\n",
    "print('The square root of 2 is', round(2 ** 0.5, 4)) \n",
    "\n",
    " # The int function is used to coerce the result\n",
    "print('The cube root of 8 is', int(8 ** (1/3)))     "
   ]
  },
  {
   "cell_type": "code",
   "execution_count": null,
   "metadata": {},
   "outputs": [],
   "source": [
    "# Modulo \n",
    "print('10 mod 5 =', 10 % 5)\n",
    "print('10 mod 3 =', 10 % 3)"
   ]
  },
  {
   "cell_type": "markdown",
   "metadata": {},
   "source": [
    "## For Loop\n",
    "A `for` loop is used for iterating over a sequence (that is either a list, a tuple, a dictionary, a set, or a string). The `for` loop will execute a set of statements, once for each item in a list, tuple, set etc."
   ]
  },
  {
   "cell_type": "code",
   "execution_count": 33,
   "metadata": {},
   "outputs": [
    {
     "name": "stdout",
     "output_type": "stream",
     "text": [
      "1 x 9 = 9\n",
      "2 x 9 = 18\n",
      "3 x 9 = 27\n",
      "4 x 9 = 36\n",
      "5 x 9 = 45\n",
      "6 x 9 = 54\n",
      "7 x 9 = 63\n",
      "8 x 9 = 72\n",
      "9 x 9 = 81\n",
      "10 x 9 = 90\n",
      "11 x 9 = 99\n",
      "12 x 9 = 108\n",
      "13 x 9 = 117\n",
      "14 x 9 = 126\n",
      "15 x 9 = 135\n"
     ]
    }
   ],
   "source": [
    "# This program prints the multiples of an natural from 1 to 15\n",
    "\n",
    "# Set the value of the number to be used\n",
    "n = 9\n",
    "\n",
    "# For loop with the range function\n",
    "for i in range(1, 16):\n",
    "    print(i, 'x', n, '=', i*n)"
   ]
  },
  {
   "cell_type": "markdown",
   "metadata": {},
   "source": [
    "## While Loop\n",
    "\n",
    "The `while` loop in Python is used to iterate over a set of statements as long as the test expression (condition) is true. We generally use this loop when we don't know beforehand, the number of times to iterate."
   ]
  },
  {
   "cell_type": "code",
   "execution_count": null,
   "metadata": {},
   "outputs": [],
   "source": [
    "# This program adds natural numbers up to n \n",
    "\n",
    "# Set the value of the number to be used\n",
    "n = 10\n",
    "\n",
    "# Initialize sum and counter\n",
    "sum = 0\n",
    "i = 1\n",
    "\n",
    "while i <= n:\n",
    "    sum = sum + i\n",
    "    \n",
    "    # Update counter\n",
    "    i = i + 1\n",
    "\n",
    "print('The sum of all the natural numbers between 1 and', n, 'is', sum)"
   ]
  },
  {
   "cell_type": "markdown",
   "metadata": {},
   "source": [
    "## Lists\n",
    "The list type is a container that holds a number of other objects, in a given order. The list type implements the sequence protocol, and allows you to add and remove objects from the sequence. Creating a list is as simple as putting different comma-separated values between square brackets. List indices start at 0, and lists can be sliced, concatenated and appended."
   ]
  },
  {
   "cell_type": "code",
   "execution_count": 34,
   "metadata": {},
   "outputs": [
    {
     "name": "stdout",
     "output_type": "stream",
     "text": [
      "Index \t Element\n",
      "0 \t 1\n",
      "1 \t 2\n",
      "2 \t 3\n",
      "3 \t 4\n",
      "4 \t 5\n",
      "\n",
      "Index \t Element\n",
      "0 \t 1\n",
      "1 \t 2\n",
      "2 \t 3\n",
      "3 \t 4\n",
      "4 \t 5\n",
      "5 \t 6.1\n"
     ]
    }
   ],
   "source": [
    "# Create a list of natural numbers\n",
    "list = [1, 2, 3, 4, 5]\n",
    "\n",
    "# Print the indices and objects in list\n",
    "print('Index', '\\t','Element')\n",
    "for i in range(len(list)):\n",
    "    print(i,'\\t', list[i])\n",
    "\n",
    "# Add an item to a list using the append function\n",
    "list.append(6.1)\n",
    "\n",
    "# Print the indices and objects in list\n",
    "print('\\nIndex', '\\t','Element')\n",
    "for i in range(len(list)):\n",
    "    print(i,'\\t', list[i])"
   ]
  },
  {
   "cell_type": "markdown",
   "metadata": {},
   "source": [
    "## Conditional Execution\n",
    "In a Python program, using the `if` statement or the `if/else` statement is a way to perform conditional execution of a statement or group of statements based on the value of an expression."
   ]
  },
  {
   "cell_type": "code",
   "execution_count": 35,
   "metadata": {},
   "outputs": [
    {
     "name": "stdout",
     "output_type": "stream",
     "text": [
      "1 is a factor of 10\n",
      "2 is a factor of 10\n",
      "3 is not a factor of 10\n",
      "4 is not a factor of 10\n",
      "5 is a factor of 10\n",
      "6 is not a factor of 10\n",
      "7 is not a factor of 10\n",
      "8 is not a factor of 10\n",
      "9 is not a factor of 10\n",
      "10 is a factor of 10\n"
     ]
    }
   ],
   "source": [
    "# This program lists all the factors of an integer\n",
    "\n",
    "# Set the value of the integer to be used\n",
    "n = 10\n",
    "\n",
    "# For loop with the range function and an if statement\n",
    "for i in range(1, n + 1):\n",
    "    if n % i == 0:\n",
    "        print(i, 'is a factor of', n)\n",
    "    else:\n",
    "        print(i, 'is not a factor of', n)"
   ]
  },
  {
   "cell_type": "markdown",
   "metadata": {},
   "source": [
    "## Visualizing Data with Graphs\n",
    "\n",
    "In Python packages like `numpy` (a library of routines for numerical calculations) and `matplotlib.pyplot` (a library of routines for making graphs) can be used to make 2D plots. "
   ]
  },
  {
   "cell_type": "code",
   "execution_count": 2,
   "metadata": {},
   "outputs": [
    {
     "name": "stdout",
     "output_type": "stream",
     "text": [
      "0.0 100.0\n",
      "1.0 50.0\n",
      "2.0 25.0\n",
      "3.0 12.5\n",
      "4.0 6.25\n",
      "5.0 3.125\n",
      "6.0 1.5625\n",
      "7.0 0.7812\n",
      "8.0 0.3906\n",
      "9.0 0.1953\n",
      "10.0 0.0976\n"
     ]
    },
    {
     "data": {
      "image/png": "[encoded data removed]",
      "text/plain": [
       "<Figure size 432x288 with 1 Axes>"
      ]
     },
     "metadata": {
      "needs_background": "light"
     },
     "output_type": "display_data"
    },
    {
     "name": "stdout",
     "output_type": "stream",
     "text": [
      "0.0 1.0\n"
     ]
    }
   ],
   "source": [
    "# Import libraries\n",
    "import numpy as np\n",
    "import matplotlib.pyplot as plt\n",
    "\n",
    "x0 = 0\n",
    "y0 = 100\n",
    "xn = 10\n",
    "n = 11\n",
    "\n",
    "# Create the list of x values\n",
    "x = np.linspace(x0, xn, n)\n",
    "\n",
    "# Create the list of y values\n",
    "y = np.zeros([n])\n",
    "\n",
    "x[0] = x0\n",
    "y[0] = y0\n",
    "\n",
    "for i in range(1, n):\n",
    "    x[i] = i\n",
    "    y[i] = round(y[i - 1]*0.5, 4)\n",
    "\n",
    "# Print the ordered pairs\n",
    "for i in range(n):\n",
    "    print(x[i], y[i])\n",
    "    \n",
    "# Plot points in the x and y lists\n",
    "plt.plot(x, y, 'o')\n",
    "\n",
    "\n",
    "# Label the plot\n",
    "plt.xlabel(\"x\")\n",
    "plt.ylabel(\"y\")\n",
    "plt.title(\"Plot\")\n",
    "\n",
    "# Show plot\n",
    "plt.show( )"
   ]
  },
  {
   "cell_type": "markdown",
   "metadata": {},
   "source": [
    "## Scatter Plots and Regression\n",
    "The `plot()` function can used to create a scatter plot between two lists of numbers, $x$ and $y$. \n",
    "\n",
    "The `pandas` library is imported to use to `read_csv` command. \n",
    "\n",
    "The linear regression calculations are performed using the `linregress` function from the `scipy` library."
   ]
  },
  {
   "cell_type": "code",
   "execution_count": 39,
   "metadata": {},
   "outputs": [
    {
     "name": "stdout",
     "output_type": "stream",
     "text": [
      "slope = 30\n",
      "intercept = 344\n",
      "R-Value =  0.85\n",
      "P-Value =  0.0\n",
      "Standard Error =  3.45\n"
     ]
    },
    {
     "data": {
      "image/png": "[encoded data removed]",
      "text/plain": [
       "<Figure size 432x288 with 1 Axes>"
      ]
     },
     "metadata": {
      "needs_background": "light"
     },
     "output_type": "display_data"
    }
   ],
   "source": [
    "# This program does a s# Import libraries\n",
    "import numpy as np\n",
    "import matplotlib.pyplot as plt\n",
    "import pandas as pd\n",
    "from scipy import stats\n",
    "\n",
    "# Read the csv file to make a dataframe\n",
    "df = pd.read_csv('harvard_undergraduate_tuition.csv', delimiter = ',')\n",
    "\n",
    "# Create a list for each cost type\n",
    "list = ['Room', 'Board', 'Tuition', 'Health Services', 'Student Services', 'Total']\n",
    "\n",
    "# List element for scatter plot\n",
    "n = 3\n",
    "\n",
    "# Create a data frame (lm = linear model') with year, component and cost\n",
    "lm = df[df['component'].str.contains(list[n])]\n",
    "\n",
    "# Create a list of all the years\n",
    "year = lm['year']\n",
    "\n",
    "# Initialize a list of zeros to use for the years after\n",
    "num_yrs_after = np.zeros([len(year)], dtype = int)\n",
    "for i in range(1, len(year)):\n",
    "    num_yrs_after[i] = num_yrs_after[i - 1] + 1\n",
    "\n",
    "# Create a list of costs\n",
    "cost = lm['cost']\n",
    "\n",
    "# Run linear regression\n",
    "slope, intercept, r_value, p_value, std_err = stats.linregress(num_yrs_after, cost)\n",
    "\n",
    "# Print the values from linregress function\n",
    "print('slope =', int(slope))\n",
    "print('intercept =', int(intercept))\n",
    "print('R-Value = ', round(r_value, 2))\n",
    "print('P-Value = ', round(p_value, 2))\n",
    "print('Standard Error = ', round(std_err, 2))\n",
    "\n",
    "\n",
    "# Scatter plot\n",
    "plt.plot(num_yrs_after, cost, '+')\n",
    "\n",
    "# Plot of the linear model\n",
    "plt.plot(slope*num_yrs_after + intercept)\n",
    "\n",
    "# Label the scattter plot\n",
    "plt.xlabel('Number of years after {}'.format(year.iloc[0]))\n",
    "plt.ylabel('Cost')\n",
    "plt.title('Scatter plot for the cost of {}'.format(list[n]))\n",
    "\n",
    "# Show plot\n",
    "plt.show()"
   ]
  },
  {
   "cell_type": "markdown",
   "metadata": {},
   "source": [
    "## Investment Comparison\n",
    "\n",
    "Suppose a set of twins (we will call them Dana and Fatimah) both went to work at the age of 24 at the same company doing the same job. On their birthday each year (starting with their 25$^\\text{th}$ birthday), they received identical bonuses of \\$2000.  However, they decided to deal with their finances differently.\n",
    "\n",
    "Fatimah decided to invest her money early in life, and each year, she took her bonus and put it in a savings account that earned 6.6\\% annual interest. At the age of 34, Fatimah decided to live life and began spending her bonuses (beginning with the one she received at age 35). She did not, however, use any of the money she already had in her savings account.  She let it continue growing until she turned 65 years old, without putting in any additional money.\n",
    "\n",
    "Dana decided to have fun when she was young and spent her bonuses.  After she turned 34 and received her bonus, she realized that she should start thinking about the future and put some money away for retirement.  She began to invest her bonuses (starting with the one she received at age 35) in a savings account that earned 6.6\\% annual interest.  She did this until the age of 65, including the bonus she received on her 65$^\\text{th}$ birthday."
   ]
  },
  {
   "cell_type": "markdown",
   "metadata": {},
   "source": [
    "## Instructions\n",
    "\n",
    "1. Write a recursive formula to describe the amount of money Dana had in her account from age 25 to age 34."
   ]
  },
  {
   "cell_type": "markdown",
   "metadata": {},
   "source": [
    "2. Write a program to calculate the amount of money Dana had in her account each year starting with her 25$^\\text{th}$ birhtday and ending on her 34$^\\text{th}$ birthday."
   ]
  },
  {
   "cell_type": "code",
   "execution_count": 40,
   "metadata": {},
   "outputs": [
    {
     "name": "stdout",
     "output_type": "stream",
     "text": [
      "Year \t\t Age \t\t Amount in Savings for Dana\n",
      "1 \t\t 25 \t\t 2000.0\n",
      "2 \t\t 26 \t\t 4132.0\n",
      "3 \t\t 27 \t\t 6404.71\n",
      "4 \t\t 28 \t\t 8827.42\n",
      "5 \t\t 29 \t\t 11410.03\n",
      "6 \t\t 30 \t\t 14163.1\n",
      "7 \t\t 31 \t\t 17097.86\n",
      "8 \t\t 32 \t\t 20226.32\n",
      "9 \t\t 33 \t\t 23561.26\n",
      "10 \t\t 34 \t\t 27116.3\n"
     ]
    }
   ],
   "source": [
    "import numpy as np\n",
    "\n",
    "start_age = 25\n",
    "end_age = 34\n",
    "n = end_age - start_age + 1\n",
    "d = np.zeros([n])\n",
    "d[0] = 2000\n",
    "\n",
    "print('Year \\t\\t', 'Age \\t\\t', 'Amount in Savings for Dana')\n",
    "print(1, '\\t\\t', 25, '\\t\\t', d[0])\n",
    "for i in range(1, n):\n",
    "        d[i] = 1.066*d[i - 1] + 2000\n",
    "        print(i + 1, '\\t\\t', i + 25, '\\t\\t', round(d[i], 2))"
   ]
  },
  {
   "cell_type": "markdown",
   "metadata": {},
   "source": [
    "3. Write a recursive formula to describe the amount of money Dana had in her account from age 35 to age 65."
   ]
  },
  {
   "cell_type": "markdown",
   "metadata": {},
   "source": [
    "4. Write a program to calculate the amount of money Dana had in her account each year starting with her 35$^\\text{th}$ birhtday and ending on her 65$^\\text{th}$ birthday."
   ]
  },
  {
   "cell_type": "code",
   "execution_count": 41,
   "metadata": {},
   "outputs": [
    {
     "name": "stdout",
     "output_type": "stream",
     "text": [
      "Year \t\t Age \t\t Amount in Savings for Dana\n",
      "11 \t\t 35 \t\t 28905.98\n",
      "12 \t\t 36 \t\t 30813.77\n",
      "13 \t\t 37 \t\t 32847.48\n",
      "14 \t\t 38 \t\t 35015.41\n",
      "15 \t\t 39 \t\t 37326.43\n",
      "16 \t\t 40 \t\t 39789.97\n",
      "17 \t\t 41 \t\t 42416.11\n",
      "18 \t\t 42 \t\t 45215.57\n",
      "19 \t\t 43 \t\t 48199.8\n",
      "20 \t\t 44 \t\t 51380.99\n",
      "21 \t\t 45 \t\t 54772.14\n",
      "22 \t\t 46 \t\t 58387.1\n",
      "23 \t\t 47 \t\t 62240.65\n",
      "24 \t\t 48 \t\t 66348.53\n",
      "25 \t\t 49 \t\t 70727.53\n",
      "26 \t\t 50 \t\t 75395.55\n",
      "27 \t\t 51 \t\t 80371.66\n",
      "28 \t\t 52 \t\t 85676.19\n",
      "29 \t\t 53 \t\t 91330.82\n",
      "30 \t\t 54 \t\t 97358.65\n",
      "31 \t\t 55 \t\t 103784.32\n",
      "32 \t\t 56 \t\t 110634.09\n",
      "33 \t\t 57 \t\t 117935.94\n",
      "34 \t\t 58 \t\t 125719.71\n",
      "35 \t\t 59 \t\t 134017.21\n",
      "36 \t\t 60 \t\t 142862.35\n",
      "37 \t\t 61 \t\t 152291.27\n",
      "38 \t\t 62 \t\t 162342.49\n",
      "39 \t\t 63 \t\t 173057.09\n",
      "40 \t\t 64 \t\t 184478.86\n",
      "41 \t\t 65 \t\t 196654.46\n"
     ]
    }
   ],
   "source": [
    "import numpy as np\n",
    "\n",
    "start_age = 34\n",
    "end_age = 65\n",
    "n = end_age - start_age + 1\n",
    "d = np.zeros([n])\n",
    "d[0] = 27116.30\n",
    "\n",
    "print('Year \\t\\t', 'Age \\t\\t', 'Amount in Savings for Dana')\n",
    "for i in range(1, n):\n",
    "    d[i] = round(1.066*d[i - 1], 2)\n",
    "    print(i + 10, '\\t\\t', i + 34, '\\t\\t',  d[i])"
   ]
  },
  {
   "cell_type": "markdown",
   "metadata": {},
   "source": [
    "4. Write a program to calculate the amount of money Dana had in her account each year starting with her 25$^\\text{th}$ birhtday and ending on her 65$^\\text{th}$ birthday."
   ]
  },
  {
   "cell_type": "code",
   "execution_count": 42,
   "metadata": {},
   "outputs": [
    {
     "name": "stdout",
     "output_type": "stream",
     "text": [
      "Year \t\t Age \t\t Amount in Savings for Dana\n",
      "1 \t\t 25 \t\t 2000.0\n",
      "2 \t\t 26 \t\t 4132.0\n",
      "3 \t\t 27 \t\t 6404.71\n",
      "4 \t\t 28 \t\t 8827.42\n",
      "5 \t\t 29 \t\t 11410.03\n",
      "6 \t\t 30 \t\t 14163.1\n",
      "7 \t\t 31 \t\t 17097.86\n",
      "8 \t\t 32 \t\t 20226.32\n",
      "9 \t\t 33 \t\t 23561.26\n",
      "10 \t\t 34 \t\t 27116.3\n",
      "11 \t\t 35 \t\t 28905.97\n",
      "12 \t\t 36 \t\t 30813.77\n",
      "13 \t\t 37 \t\t 32847.48\n",
      "14 \t\t 38 \t\t 35015.41\n",
      "15 \t\t 39 \t\t 37326.43\n",
      "16 \t\t 40 \t\t 39789.97\n",
      "17 \t\t 41 \t\t 42416.11\n",
      "18 \t\t 42 \t\t 45215.57\n",
      "19 \t\t 43 \t\t 48199.8\n",
      "20 \t\t 44 \t\t 51380.99\n",
      "21 \t\t 45 \t\t 54772.13\n",
      "22 \t\t 46 \t\t 58387.09\n",
      "23 \t\t 47 \t\t 62240.64\n",
      "24 \t\t 48 \t\t 66348.52\n",
      "25 \t\t 49 \t\t 70727.53\n",
      "26 \t\t 50 \t\t 75395.54\n",
      "27 \t\t 51 \t\t 80371.65\n",
      "28 \t\t 52 \t\t 85676.18\n",
      "29 \t\t 53 \t\t 91330.8\n",
      "30 \t\t 54 \t\t 97358.64\n",
      "31 \t\t 55 \t\t 103784.31\n",
      "32 \t\t 56 \t\t 110634.07\n",
      "33 \t\t 57 \t\t 117935.92\n",
      "34 \t\t 58 \t\t 125719.69\n",
      "35 \t\t 59 \t\t 134017.19\n",
      "36 \t\t 60 \t\t 142862.33\n",
      "37 \t\t 61 \t\t 152291.24\n",
      "38 \t\t 62 \t\t 162342.46\n",
      "39 \t\t 63 \t\t 173057.06\n",
      "40 \t\t 64 \t\t 184478.83\n",
      "41 \t\t 65 \t\t 196654.43\n"
     ]
    }
   ],
   "source": [
    "import numpy as np\n",
    "\n",
    "start_age = 25\n",
    "end_age = 65\n",
    "n = end_age - start_age + 1\n",
    "d = np.zeros([n])\n",
    "d[0] = 2000\n",
    "\n",
    "print('Year \\t\\t', 'Age \\t\\t', 'Amount in Savings for Dana')\n",
    "print(1, '\\t\\t', 25, '\\t\\t', d[0])\n",
    "for i in range(1, n):\n",
    "    if (i < 10):\n",
    "        d[i] = 1.066*d[i - 1] + 2000\n",
    "    else:\n",
    "        d[i] = 1.066*d[i - 1]\n",
    "    print(i + 1, '\\t\\t', i + 25, '\\t\\t', round(d[i], 2))"
   ]
  },
  {
   "cell_type": "markdown",
   "metadata": {},
   "source": [
    "4. Write a recursive formula to describe the amount of money Fatimah had in her account from age 25 to age 34."
   ]
  },
  {
   "cell_type": "markdown",
   "metadata": {},
   "source": [
    "5. Write a recursive formula to describe the amount of money Fatimah had in her account from age 35 to age 65."
   ]
  },
  {
   "cell_type": "markdown",
   "metadata": {},
   "source": [
    "6. Write a program to calculate the amount of money Fatimah had in her account each year starting with her 25$^\\text{th}$ birhtday and ending on her 65$^\\text{th}$ birthday."
   ]
  },
  {
   "cell_type": "code",
   "execution_count": 43,
   "metadata": {},
   "outputs": [
    {
     "name": "stdout",
     "output_type": "stream",
     "text": [
      "Year \t\t Age \t\t Amount in Savings for Fatimah\n",
      "1 \t\t 25 \t\t 0\n",
      "2 \t\t 26 \t\t 0.0\n",
      "3 \t\t 27 \t\t 0.0\n",
      "4 \t\t 28 \t\t 0.0\n",
      "5 \t\t 29 \t\t 0.0\n",
      "6 \t\t 30 \t\t 0.0\n",
      "7 \t\t 31 \t\t 0.0\n",
      "8 \t\t 32 \t\t 0.0\n",
      "9 \t\t 33 \t\t 0.0\n",
      "10 \t\t 34 \t\t 0.0\n",
      "11 \t\t 35 \t\t 2000.0\n",
      "12 \t\t 36 \t\t 4132.0\n",
      "13 \t\t 37 \t\t 6404.71\n",
      "14 \t\t 38 \t\t 8827.42\n",
      "15 \t\t 39 \t\t 11410.03\n",
      "16 \t\t 40 \t\t 14163.1\n",
      "17 \t\t 41 \t\t 17097.86\n",
      "18 \t\t 42 \t\t 20226.32\n",
      "19 \t\t 43 \t\t 23561.26\n",
      "20 \t\t 44 \t\t 27116.3\n",
      "21 \t\t 45 \t\t 30905.97\n",
      "22 \t\t 46 \t\t 34945.77\n",
      "23 \t\t 47 \t\t 39252.19\n",
      "24 \t\t 48 \t\t 43842.83\n",
      "25 \t\t 49 \t\t 48736.46\n",
      "26 \t\t 50 \t\t 53953.07\n",
      "27 \t\t 51 \t\t 59513.97\n",
      "28 \t\t 52 \t\t 65441.89\n",
      "29 \t\t 53 \t\t 71761.06\n",
      "30 \t\t 54 \t\t 78497.28\n",
      "31 \t\t 55 \t\t 85678.11\n",
      "32 \t\t 56 \t\t 93332.86\n",
      "33 \t\t 57 \t\t 101492.83\n",
      "34 \t\t 58 \t\t 110191.36\n",
      "35 \t\t 59 \t\t 119463.99\n",
      "36 \t\t 60 \t\t 129348.61\n",
      "37 \t\t 61 \t\t 139885.62\n",
      "38 \t\t 62 \t\t 151118.07\n",
      "39 \t\t 63 \t\t 163091.86\n",
      "40 \t\t 64 \t\t 175855.92\n",
      "41 \t\t 65 \t\t 189462.41\n"
     ]
    }
   ],
   "source": [
    "import numpy as np\n",
    "\n",
    "start_age = 25\n",
    "end_age = 65\n",
    "n = end_age - start_age + 1\n",
    "f = np.zeros([n])\n",
    "f[0] = 2000\n",
    "\n",
    "print('Year \\t\\t', 'Age \\t\\t', 'Amount in Savings for Fatimah')\n",
    "print(1, '\\t\\t', 25, '\\t\\t', 0)\n",
    "for i in range(1, n):\n",
    "    if (i < 10):\n",
    "        f[i] = 0\n",
    "    else:\n",
    "        f[i] = 1.066*f[i - 1] + 2000\n",
    "    print(i + 1, '\\t\\t', i + 25, '\\t\\t', round(f[i], 2))"
   ]
  },
  {
   "cell_type": "markdown",
   "metadata": {},
   "source": [
    "6. Write a program to calculate the amount of money both Dana and Fatimah had in their accounts each year starting with their 25$^\\text{th}$ birhtday and ending on the 65$^\\text{th}$ birthday. Make a discete graph to display your results."
   ]
  },
  {
   "cell_type": "code",
   "execution_count": 44,
   "metadata": {},
   "outputs": [
    {
     "name": "stdout",
     "output_type": "stream",
     "text": [
      "Year \t\t Age \t\t Amount in Savings for Dana \t Amount in Savings for Fatimah \t\n",
      "1 \t\t 25 \t\t 2000.0 \t\t\t 0.0\n",
      "2 \t\t 26 \t\t 4132.0 \t\t\t 0.0\n",
      "3 \t\t 27 \t\t 6404.71 \t\t\t 0.0\n",
      "4 \t\t 28 \t\t 8827.42 \t\t\t 0.0\n",
      "5 \t\t 29 \t\t 11410.03 \t\t\t 0.0\n",
      "6 \t\t 30 \t\t 14163.1 \t\t\t 0.0\n",
      "7 \t\t 31 \t\t 17097.86 \t\t\t 0.0\n",
      "8 \t\t 32 \t\t 20226.32 \t\t\t 0.0\n",
      "9 \t\t 33 \t\t 23561.26 \t\t\t 0.0\n",
      "10 \t\t 34 \t\t 27116.3 \t\t\t 0.0\n",
      "11 \t\t 35 \t\t 28905.97 \t\t\t 2000.0\n",
      "12 \t\t 36 \t\t 30813.77 \t\t\t 4132.0\n",
      "13 \t\t 37 \t\t 32847.48 \t\t\t 6404.71\n",
      "14 \t\t 38 \t\t 35015.41 \t\t\t 8827.42\n",
      "15 \t\t 39 \t\t 37326.43 \t\t\t 11410.03\n",
      "16 \t\t 40 \t\t 39789.97 \t\t\t 14163.1\n",
      "17 \t\t 41 \t\t 42416.11 \t\t\t 17097.86\n",
      "18 \t\t 42 \t\t 45215.57 \t\t\t 20226.32\n",
      "19 \t\t 43 \t\t 48199.8 \t\t\t 23561.26\n",
      "20 \t\t 44 \t\t 51380.99 \t\t\t 27116.3\n",
      "21 \t\t 45 \t\t 54772.13 \t\t\t 30905.97\n",
      "22 \t\t 46 \t\t 58387.09 \t\t\t 34945.77\n",
      "23 \t\t 47 \t\t 62240.64 \t\t\t 39252.19\n",
      "24 \t\t 48 \t\t 66348.52 \t\t\t 43842.83\n",
      "25 \t\t 49 \t\t 70727.53 \t\t\t 48736.46\n",
      "26 \t\t 50 \t\t 75395.54 \t\t\t 53953.07\n",
      "27 \t\t 51 \t\t 80371.65 \t\t\t 59513.97\n",
      "28 \t\t 52 \t\t 85676.18 \t\t\t 65441.89\n",
      "29 \t\t 53 \t\t 91330.8 \t\t\t 71761.06\n",
      "30 \t\t 54 \t\t 97358.64 \t\t\t 78497.28\n",
      "31 \t\t 55 \t\t 103784.31 \t\t\t 85678.11\n",
      "32 \t\t 56 \t\t 110634.07 \t\t\t 93332.86\n",
      "33 \t\t 57 \t\t 117935.92 \t\t\t 101492.83\n",
      "34 \t\t 58 \t\t 125719.69 \t\t\t 110191.36\n",
      "35 \t\t 59 \t\t 134017.19 \t\t\t 119463.99\n",
      "36 \t\t 60 \t\t 142862.33 \t\t\t 129348.61\n",
      "37 \t\t 61 \t\t 152291.24 \t\t\t 139885.62\n",
      "38 \t\t 62 \t\t 162342.46 \t\t\t 151118.07\n",
      "39 \t\t 63 \t\t 173057.06 \t\t\t 163091.86\n",
      "40 \t\t 64 \t\t 184478.83 \t\t\t 175855.92\n",
      "41 \t\t 65 \t\t 196654.43 \t\t\t 189462.41\n"
     ]
    },
    {
     "data": {
      "image/png": "[encoded data removed]",
      "text/plain": [
       "<Figure size 432x288 with 1 Axes>"
      ]
     },
     "metadata": {
      "needs_background": "light"
     },
     "output_type": "display_data"
    }
   ],
   "source": [
    "import numpy as np\n",
    "import matplotlib.pyplot as plt\n",
    "\n",
    "start_age = 25\n",
    "end_age = 65\n",
    "n = end_age - start_age + 1\n",
    "d = np.zeros([n])\n",
    "f = np.zeros([n])\n",
    "num = np.zeros([n], dtype = int)\n",
    "\n",
    "for i in range(1, n):\n",
    "    num[i] = num[i - 1] + 1\n",
    "\n",
    "d[0] = 2000\n",
    "\n",
    "print('Year \\t\\t', 'Age \\t\\t', 'Amount in Savings for Dana \\t', 'Amount in Savings for Fatimah \\t')\n",
    "print(1, '\\t\\t', 25, '\\t\\t', d[0], '\\t\\t\\t', 0.0)\n",
    "for i in range(1, n):\n",
    "    if (i < 10):\n",
    "        d[i] = 1.066*d[i - 1] + 2000 \n",
    "        f[i] = 0\n",
    "    else:\n",
    "        d[i] = 1.066*d[i - 1] \n",
    "        f[i] = 1.066*f[i - 1] + 2000\n",
    "    print(i + 1, '\\t\\t', i + 25, '\\t\\t', round(d[i], 2), '\\t\\t\\t', round(f[i], 2))\n",
    "    \n",
    "plt.scatter(num, d, label = 'Dana', color = 'k', marker = \"o\")\n",
    "plt.scatter(num, f, label = 'Fatimah', color = 'r', marker = \"+\")\n",
    "plt.legend()\n",
    "plt.show( )"
   ]
  },
  {
   "cell_type": "markdown",
   "metadata": {},
   "source": [
    "## Fishing from a Stocked Pond\n",
    "A community has a pond that is stocked with 10,000 fish annually.  People fish throughout the year, catching fish at a rate proportional to how many fish are in the pond.  At time $t=0$ there are 15,000 fish in the pond. We want to investigate how the fish population changes over time.\n",
    "\n",
    "To simulate the random nature of catching fish, we will write a program that will mimic the roll of a die. Since the initial population of fish is 15,000 will \"roll\" our die once for each fish. Any die that lands on a 6 represents a fish that got caught and removed from the population. \n",
    "\n",
    "\n",
    "## Precalculus Instructions\n",
    "1. How do think how the fish population will behave?}\n",
    "2. Write a program that simulates a die roll. Any die that rolls a 6 represents a fish that got caught and removed from the population. Record the total number of fish that are caught and the number of fish that remain in the pond.\n",
    "3. Use the simulation from question 2 to get a feel for what's happening to the population.\n",
    "4. Write a recursive formula to describe how the population of fish (in thousands) is changing each year.\n",
    "5. Write a program to make a scatter that shows how the fish population (in thousands) would change over a period of 25 years.\n",
    "6. Update your program to make a scatter plot of the data. What do you notice about the amount of fish being caught each year? How is the fish population changing each year?\n",
    "\n",
    "## Calculus Instructions\n",
    "1. How do think how the fish population will behave?\n",
    "2. Write a program that simulates a die roll. Any die that rolls a 6 represents a fish that got caught and removed from the population. Record the total number of fish that are caught and the number of fish that remain in the pond.\n",
    "3. Use the simulation from question 2 to get a feel for what's happening to the population.\n",
    "4. Write a recursive formula to describe how the population of fish (in thousands) is changing each year.\n",
    "5. Write a program to make a scatter that shows how the fish population (in thousands) would change over a period of 25 years.\n",
    "5. Update your program to make a scatter plot of the data. What do you notice about the amount of fish being caught each year? How is the fish population changing each year?\n",
    "6. Write a differential equation model, including initial conditions, for the rate of change of the fish population (in thousands) as a function of time.\n",
    "7. Solve the differential equation and plot the graph."
   ]
  },
  {
   "cell_type": "code",
   "execution_count": 48,
   "metadata": {},
   "outputs": [
    {
     "data": {
      "image/png": "[encoded data removed]",
      "text/plain": [
       "<Figure size 432x288 with 1 Axes>"
      ]
     },
     "metadata": {
      "needs_background": "light"
     },
     "output_type": "display_data"
    }
   ],
   "source": [
    "import numpy as np\n",
    "import matplotlib.pyplot as plt\n",
    "import random\n",
    "\n",
    "# Inititalize lists\n",
    "n = 25\n",
    "f0 = 15000\n",
    "years = 2\n",
    "\n",
    "t = np.zeros([n], dtype = int)\n",
    "f = np.zeros([n], dtype = int)\n",
    "\n",
    "f[0] = f0\n",
    "for i in range(1, n):\n",
    "    t[i] = i\n",
    "\n",
    "for i in range(n):\n",
    "    num_fish_caught = 0\n",
    "    for j in range(f[i - 1]):\n",
    "        roll = random.randint(1,6)\n",
    "        if roll == 4:\n",
    "            num_fish_caught = num_fish_caught + 1\n",
    "    #if i > 0:\n",
    "        #print(num_fish_caught/f[i - 1])\n",
    "    f[i] = f[i - 1] - num_fish_caught + 10000\n",
    "plt.plot(t, f/1000, 'o')\n",
    "plt.plot(t, -45*np.exp(-t/6)+60)\n",
    "plt.xlabel('Year')\n",
    "plt.ylabel('Number of Fish')\n",
    "plt.show()"
   ]
  },
  {
   "cell_type": "markdown",
   "metadata": {},
   "source": [
    "## Extreme Skydiving\n",
    "\n",
    "Extreme skydivers try to set records for very high altitude jumps. These jumps are typically made not from airplanes, but from hot-air balloons.  The record for extreme jumping is held by an Austrian named Felix Baumgartner who leaped from a balloon more than 24 miles above Earth's surface (nearly 128,000 feet or about 41,000 meters), then landed safely on the desert floor in New Mexico about 20 minutes later. On the way down, he broke the sound barrier, reaching a free fall velocity of approximately 822 miles per hour (1323 kilometers per hour).\n",
    "\n",
    "We will model the path of a skydiver, determine how fast a skydiver is going at her fastest, and how long it takes her to reach the ground.\n",
    "\n",
    "## Ignoring Air Resistance\n",
    "In this first part, we will ignore air resistance. In such a case, the acceleration that a skydiver experiences is always equal to $-9.8$m/s$^2$. We will use meters for distance measurements and and seconds for time measurements. Since acceleration is the derivative of velocity, we may use Euler's method to compute the skydiver's velocity based on her previous velocity and acceleration. Similarly, since velocity is the derivative of altitude, we may also use Euler's method to compute the skydiver's altitude based on her previous altitude and velocity.\n",
    "\n",
    "Now we need to give our system of differential equations some initial values. Rather than have the skydiver jump from 41 kilometers, to start with let's have the skydiver jump from just 4 kilometers.\n",
    "\n",
    "## Instructions\n",
    "1. Write the differential equations for $\\frac{dv}{dt}$ and $\\frac{dh}{dt}$.\n",
    "2. Write a program that will use Euler's method to calculate the height and velocity of the skydiver (ignoring air resistance) using a change in time of 0.1 seconds. Since we don't know how long the jump will take we need to use a `while` loop and the `append` function to add values for time, velocity and height to our lists. You should see the following values in your program output.\n",
    "\n",
    "3. Update your program to make graphs for time vs. height and time vs. velocity.\n",
    "   \n",
    "   a. Explain how these graphs relate to the jump your skydiver is making."
   ]
  },
  {
   "cell_type": "code",
   "execution_count": 49,
   "metadata": {},
   "outputs": [
    {
     "name": "stdout",
     "output_type": "stream",
     "text": [
      "0.0 0.0 40000.0\n"
     ]
    },
    {
     "data": {
      "image/png": "[encoded data removed]",
      "text/plain": [
       "<Figure size 432x288 with 1 Axes>"
      ]
     },
     "metadata": {
      "needs_background": "light"
     },
     "output_type": "display_data"
    },
    {
     "data": {
      "image/png": "[encoded data removed]",
      "text/plain": [
       "<Figure size 432x288 with 1 Axes>"
      ]
     },
     "metadata": {
      "needs_background": "light"
     },
     "output_type": "display_data"
    }
   ],
   "source": [
    "# Import libraries \n",
    "import numpy as np\n",
    "import matplotlib.pyplot as plt\n",
    "\n",
    "# Initialize lists for time, acceleration, velocity and height\n",
    "time = []\n",
    "height = []\n",
    "velocity = []\n",
    "\n",
    "# Initial values for time, change in time, acceleration, velocity and height\n",
    "delta_t = 0.1\n",
    "t_i = 0.0\n",
    "v_i = 0.0\n",
    "h_i = 40000.0\n",
    "\n",
    "# Initialize first element in the lists for time, acceleration, velocity and height\n",
    "time.append(t_i)\n",
    "height.append(h_i)\n",
    "velocity.append(v_i)\n",
    "\n",
    "# Initialize list counter\n",
    "i = 0\n",
    "\n",
    "print(time[0], velocity[0], height[0])\n",
    "while h_i >= 0:\n",
    "    i = i + 1\n",
    "    \n",
    "    # Time\n",
    "    t_i = t_i + delta_t\n",
    "    time.append(t_i)\n",
    "    \n",
    "    # Velocity\n",
    "    v_i = velocity[i - 1] + -9.8*delta_t\n",
    "    velocity.append(v_i)\n",
    "    \n",
    "    # Height\n",
    "    h_i = height[i - 1] + velocity[i - 1]*delta_t\n",
    "    height.append(h_i)\n",
    "    \n",
    "    #print(t_i, v_i, h_i)\n",
    "\n",
    "plt.plot(time, height, 'o')\n",
    "plt.xlabel('Time')\n",
    "plt.ylabel('Height')\n",
    "plt.title('Time vs. Height')\n",
    "plt.show()\n",
    "plt.xlabel('Time')\n",
    "plt.ylabel('Velocity')\n",
    "plt.title('Time vs. Velocity')\n",
    "plt.plot(time, velocity, 'o')\n",
    "plt.show()"
   ]
  },
  {
   "cell_type": "markdown",
   "metadata": {},
   "source": [
    "## Air Resistance\n",
    "Air resistance is roughly proportional to the square of velocity, and it operates in the opposite direction, in this case, that means it adds to the constant $-9.8$m/s$^2$; \n",
    "\n",
    "$$\\text{Acceleration} = -9.8+kv^2,$$\n",
    "\n",
    "where $v$ is the skydiver's velocity, and $k$ is a constant of proportionality. The constant $k$, \n",
    "\n",
    "$$k = \\frac{C\\rho S}{2m}$$\n",
    "where,\n",
    "\n",
    "* $C$ is the coefficient of air resistance,\n",
    "* $\\rho$ is air density measured in kilograms per cubic meter,\n",
    "* $S$ is the surface area of the skydiver (that is, the skydiver's surface area perpendicular to the direction of motion), measured in square meters,\n",
    "* and $m$ is the skydiver's mass, measured in kilograms.\n",
    "\n",
    "For our skydiver, we have the following values \n",
    "* $C=0.57$\n",
    "* $\\rho=1.3$ kg/m$^3$\n",
    "* $m=75$ kg\n",
    "* $S=0.7$ (parachute closed)\n",
    "* $S=25$ (parachute opened)\n",
    "\n",
    "4. We need to modify our equations to account for air resistance. Write the updated differential equation for $\\frac{dv}{dt}$.\n",
    "\n",
    "## The Parachute\n",
    "It's time to incorporate a parachute into our program for our skydiver so she doesn't hit the ground at such a high velocity. When opening the parachute, the the surface area of the skydiver (almost) instantly changes. Skydivers either wait until they reach a certain height before opening their parachute, or they wait for a certain number of seconds to pass after jumping.\n",
    "\n",
    "5. Update your program to include air resistance and opening a parachute.\n",
    "\n",
    "   a. Use an `if/else` condition to have the parachute open when the diver's height is 650 meters above the ground.\n",
    "   b. Explain how the graphs for time vs. height and time vs. velocity relate to the jump your skydiver is making.\n",
    "   \n",
    "\n",
    "6. Update your program to include a graph for time vs. speed.\n",
    "\n",
    "   a. Explain how the graph of time vs. speed relate to the jump your skydiver is making.\n",
    "   \n",
    "\n",
    "7. Change the height 40000 meters and have the parachute open at 2600 meters.\n",
    "\n",
    "   a. Explain how the graphs for time vs. height, time vs. velcoity and time vs. speed relate to the jump that Felix Baumgartner made."
   ]
  },
  {
   "cell_type": "code",
   "execution_count": 52,
   "metadata": {},
   "outputs": [
    {
     "data": {
      "image/png": "[encoded data removed]",
      "text/plain": [
       "<Figure size 432x288 with 1 Axes>"
      ]
     },
     "metadata": {
      "needs_background": "light"
     },
     "output_type": "display_data"
    },
    {
     "data": {
      "image/png": "[encoded data removed]",
      "text/plain": [
       "<Figure size 432x288 with 1 Axes>"
      ]
     },
     "metadata": {
      "needs_background": "light"
     },
     "output_type": "display_data"
    },
    {
     "data": {
      "image/png": "[encoded data removed]",
      "text/plain": [
       "<Figure size 432x288 with 1 Axes>"
      ]
     },
     "metadata": {
      "needs_background": "light"
     },
     "output_type": "display_data"
    }
   ],
   "source": [
    "import numpy as np\n",
    "import matplotlib.pyplot as plt\n",
    "\n",
    "# Initialize lists for time, acceleration, velocity and height\n",
    "time = []\n",
    "height = []\n",
    "velocity = []\n",
    "\n",
    "# Initial values for time, change in time, acceleration, velocity and height\n",
    "delta_t = 0.1\n",
    "t_i = 0.0\n",
    "v_i = 0.0\n",
    "h_i = 40000.0\n",
    "\n",
    "# Initialize first element in the lists for time, acceleration, velocity and height\n",
    "time.append(t_i)\n",
    "height.append(h_i)\n",
    "velocity.append(v_i)\n",
    "\n",
    "# Values for air resistence\n",
    "C = 0.57\n",
    "rho = 1.3\n",
    "m = 75\n",
    "S_0 = 0.7\n",
    "S_1 = 25\n",
    "k_0 = (C*rho*S_0)/(2*m)\n",
    "k_1 = (C*rho*S_1)/(2*m)\n",
    "\n",
    "# Initialize list counter\n",
    "i = 0\n",
    "\n",
    "while h_i >= 0:\n",
    "    i = i + 1\n",
    "    \n",
    "    t_i = t_i + delta_t\n",
    "    time.append(t_i)\n",
    "    \n",
    "    if h_i > 2650:\n",
    "        #v_i = velocity[i - 1] + (-9.8 + k_0*velocity[i - 1]**2)*delta_t\n",
    "        v_i = velocity[i - 1] + (-9.8 + (C*1.3*(0.9999)**height[i - 1]*S_0)/(2*m)*velocity[i - 1]**2)*delta_t\n",
    "    else:\n",
    "        #v_i = velocity[i - 1] + (-9.8 + k_1*velocity[i - 1]**2)*delta_t\n",
    "        v_i = velocity[i - 1] + (-9.8 + (C*1.3*(0.9999)**height[i - 1]*S_1)/(2*m)*velocity[i - 1]**2)*delta_t\n",
    "    velocity.append(v_i)\n",
    "    \n",
    "    h_i = height[i - 1] + velocity[i - 1]*delta_t\n",
    "    height.append(h_i)\n",
    "    \n",
    "    #print(i, round(time[i - 1], 2), round(ht[i - 1], 3), round(vel[i - 1], 3))\n",
    "\n",
    "plt.plot(time, height, 'o')\n",
    "plt.xlabel('Time')\n",
    "plt.ylabel('Height')\n",
    "plt.title('Time vs. Height')\n",
    "plt.show()\n",
    "plt.xlabel('Time')\n",
    "plt.ylabel('Velocity')\n",
    "plt.title('Time vs. Velocity')\n",
    "plt.plot(time, velocity, 'o')\n",
    "plt.show()\n",
    "plt.xlabel('Time')\n",
    "plt.ylabel('Speed')\n",
    "plt.title('Time vs. Speed')\n",
    "plt.plot(time, np.abs(velocity), 'o')\n",
    "plt.show()"
   ]
  },
  {
   "cell_type": "markdown",
   "metadata": {},
   "source": [
    "## Air Density\n",
    "Air density decreases with increasing altitude. Even at heights of 1000 km and above, the atmosphere is still present (as can be seen for example by the effects of atmospheric drag on satellites). However,\n",
    "\n",
    "* 57.8\\% of the atmosphere by mass is below the summit of Mount Everest\n",
    "* 72\\% of the atmosphere by mass is below the common cruising altitude of commercial airliners (about 10000 m or 33000 ft)\n",
    "* 99.99999% of the atmosphere by mass is below the highest X-15 plane flight on August 22, 1963, which reached an altitude of 354,300 feet or 108 kilometers\n",
    "\n",
    "Therefore, most of the atmosphere (99.9999%) by mass is below 100 kilometers.\n",
    "\n",
    "8. Update your program to adjust the value of air density ($\\rho$) based on the height of the skydiver.\n",
    "   \n",
    "   a. Explain how these graphs relate to the jump that Felix Baumgartner made."
   ]
  },
  {
   "cell_type": "code",
   "execution_count": null,
   "metadata": {},
   "outputs": [],
   "source": []
  }
 ],
 "metadata": {
  "kernelspec": {
   "display_name": "Python 3",
   "language": "python",
   "name": "python3"
  },
  "language_info": {
   "codemirror_mode": {
    "name": "ipython",
    "version": 3
   },
   "file_extension": ".py",
   "mimetype": "text/x-python",
   "name": "python",
   "nbconvert_exporter": "python",
   "pygments_lexer": "ipython3",
   "version": "3.7.4"
  }
 },
 "nbformat": 4,
 "nbformat_minor": 2
}
