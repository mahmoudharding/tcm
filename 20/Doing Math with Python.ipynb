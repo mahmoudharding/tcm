{
 "cells": [
  {
   "cell_type": "markdown",
   "metadata": {},
   "source": [
    "<center><h1>Mathematics with Python</h1></center>\n",
    "<center><h2>Teaching Contemporary Mathematics Conference</h2></center>\n",
    "<center><h2>The North Carolina School of Science and Mathematics</h2></center>  \n",
    "</br>\n",
    "<center><h3>Mahmoud Harding</h3></center>\n",
    "<center><h3>January 25, 2020</h3></center>"
   ]
  },
  {
   "cell_type": "markdown",
   "metadata": {},
   "source": [
    "## Basic Mathematical Operations\n",
    "\n",
    "Python can perform all the basic mathematical operations of a scientific calculator. Just type in a mathematical expression, press enter, Python will evaluate it and print the result to the screen."
   ]
  },
  {
   "cell_type": "code",
   "execution_count": null,
   "metadata": {},
   "outputs": [],
   "source": [
    "# Addition with integers\n",
    "2 + 3"
   ]
  },
  {
   "cell_type": "code",
   "execution_count": null,
   "metadata": {},
   "outputs": [],
   "source": [
    "# Addition with an integer and a float\n",
    "2 + 3.14"
   ]
  },
  {
   "cell_type": "code",
   "execution_count": null,
   "metadata": {},
   "outputs": [],
   "source": [
    "# Subtraction with an integer and a float\n",
    "2 - 3.14"
   ]
  },
  {
   "cell_type": "code",
   "execution_count": null,
   "metadata": {},
   "outputs": [],
   "source": [
    "# Multiplication\n",
    "2 * 3"
   ]
  },
  {
   "cell_type": "code",
   "execution_count": null,
   "metadata": {},
   "outputs": [],
   "source": [
    "# Division\n",
    "3/2"
   ]
  },
  {
   "cell_type": "code",
   "execution_count": null,
   "metadata": {},
   "outputs": [],
   "source": [
    "# Exponents\n",
    "print('2 cubed is', 2 ** 3)\n",
    "print('The square root of 2 is', round(2 ** 0.5, 4)) # The round function is used to round to 4 decimal places \n",
    "print('The cube root of 8 is', int(8 ** (1/3)))      # The int function is used to coerce the result"
   ]
  },
  {
   "cell_type": "code",
   "execution_count": null,
   "metadata": {},
   "outputs": [],
   "source": [
    "# Modulo \n",
    "print('10 mod 5 =', 10 % 5)\n",
    "print('10 mod 3 =', 10 % 3)"
   ]
  },
  {
   "cell_type": "markdown",
   "metadata": {},
   "source": [
    "## User Input\n",
    "\n",
    "Python programs can accept user input (like a scientific calculator) via the `input()` function."
   ]
  },
  {
   "cell_type": "code",
   "execution_count": null,
   "metadata": {},
   "outputs": [],
   "source": [
    "# This program adds 5 to an integer\n",
    "\n",
    "# Store the user input in a variable\n",
    "x = input('Enter an integer to add to 5: ')\n",
    "\n",
    "# Coerce the type to an integer\n",
    "x = int(x)\n",
    "\n",
    "# Perform the operation and print the result to the screen\n",
    "x + 5"
   ]
  },
  {
   "cell_type": "markdown",
   "metadata": {},
   "source": [
    "## For Loop\n",
    "\n",
    "A `for` loop is used for iterating over a sequence (that is either a list, a tuple, a dictionary, a set, or a string). The `for` loop will execute a set of statements, once for each item in a list, tuple, set etc."
   ]
  },
  {
   "cell_type": "code",
   "execution_count": null,
   "metadata": {},
   "outputs": [],
   "source": [
    "# This program prints the multiples of an integer from 1 to 15\n",
    "\n",
    "# Store the user input in a variable\n",
    "x = input('Enter an integer to print multiples from 1 to 15: ')\n",
    "\n",
    "# Coerce the type to an integer\n",
    "x = int(x)\n",
    "\n",
    "# For loop with the range function\n",
    "for i in range(1, 16):\n",
    "    print(i, 'x', x, '=', i*x)"
   ]
  },
  {
   "cell_type": "markdown",
   "metadata": {},
   "source": [
    "## Conditional Logic\n",
    "\n",
    "In a Python program, the `if` statement is a way to perform conditional execution of a statement or group of statements based on the value of an expression."
   ]
  },
  {
   "cell_type": "code",
   "execution_count": null,
   "metadata": {},
   "outputs": [],
   "source": [
    "# This program lists all the factors of an integer\n",
    "\n",
    "# Store the user input in a variable\n",
    "x = input('Enter an integer to list all its factors: ')\n",
    "\n",
    "# Coerce the type to an integer\n",
    "x = int(x)\n",
    "\n",
    "# For loop with the range function and an if statement\n",
    "for i in range(1, x + 1):\n",
    "    if x % i == 0:\n",
    "        print(i)"
   ]
  },
  {
   "cell_type": "markdown",
   "metadata": {},
   "source": [
    "## User Defined Function\n",
    "\n",
    "A user defined function is defined by using the `def` keyword, followed by a name that you choose, followed by a set of parentheses which hold any parameters the function will take (they can be empty) and ending with a colon."
   ]
  },
  {
   "cell_type": "code",
   "execution_count": 330,
   "metadata": {},
   "outputs": [
    {
     "name": "stdout",
     "output_type": "stream",
     "text": [
      "1. Kilometers to Miles\n",
      "2. Miles to Kilometers\n",
      "Which conversion would you like to do?: 2\n",
      "Enter distance in miles: 687.8\n",
      "Distance in kilometers:  1106.67\n"
     ]
    }
   ],
   "source": [
    "# This program converts from miles to kilometers or kilometers to miles\n",
    "\n",
    "# User defined function to display the options\n",
    "def program_menu():\n",
    "    print('1. Kilometers to Miles')\n",
    "    print('2. Miles to Kilometers')\n",
    "\n",
    "# User defined function to convert miles to kilometers\n",
    "def km_miles():\n",
    "    km = float(input('Enter distance in kilometers: '))\n",
    "    miles = km / 1.609\n",
    "    print('Distance in miles: ', round(miles, 2)) # The round function to display 2 decimal places\n",
    "\n",
    "# User defined function to convert kilometers to miles\n",
    "def miles_km():\n",
    "    miles = float(input('Enter distance in miles: '))\n",
    "    km = miles * 1.609\n",
    "    print('Distance in kilometers: ', round(km, 2)) # The round function to display 2 decimal places\n",
    "\n",
    "program_menu()\n",
    "choice = input('Which conversion would you like to do?: ')\n",
    "if choice == '1':\n",
    "    km_miles()\n",
    "if choice == '2':\n",
    "    miles_km()"
   ]
  },
  {
   "cell_type": "markdown",
   "metadata": {},
   "source": [
    "## Visualizing Data with Graphs\n",
    "\n",
    "In Python packages like `numpy` (a library of routines for numerical calculations) and `matplotlib.pyplot` (a library of routines for making graphs) can be used to make 2D plots. "
   ]
  },
  {
   "cell_type": "code",
   "execution_count": 334,
   "metadata": {},
   "outputs": [
    {
     "name": "stdout",
     "output_type": "stream",
     "text": [
      "0.0 100.0\n",
      "1.0 50.0\n",
      "2.0 25.0\n",
      "3.0 12.5\n",
      "4.0 6.25\n",
      "5.0 3.125\n",
      "6.0 1.5625\n",
      "7.0 0.7812\n",
      "8.0 0.3906\n",
      "9.0 0.1953\n",
      "10.0 0.0976\n"
     ]
    },
    {
     "data": {
      "image/png": "[encoded data removed]",
      "text/plain": [
       "<Figure size 432x288 with 1 Axes>"
      ]
     },
     "metadata": {
      "needs_background": "light"
     },
     "output_type": "display_data"
    }
   ],
   "source": [
    "# Import the numpy library and the matplotlib.pyplot library\n",
    "import numpy as np\n",
    "import matplotlib.pyplot as plt\n",
    "\n",
    "x0 = 0\n",
    "y0 = 100\n",
    "xn = 10\n",
    "n = 11\n",
    "\n",
    "## Create the vector for the x values\n",
    "x = np.linspace(x0, xn, n)\n",
    "\n",
    "# Initialize list for y values\n",
    "y = np.zeros([n])\n",
    "\n",
    "x[0] = x0\n",
    "y[0] = y0\n",
    "\n",
    "for i in range(1, n):\n",
    "    x[i] = i\n",
    "    y[i] = round(y[i - 1]*0.5, 4) # Round values to 4 decimal places\n",
    "\n",
    "# Print the ordered pairs\n",
    "for i in range(n):\n",
    "    print(x[i], y[i])\n",
    "    \n",
    "# Plot the points in the x and y lists\n",
    "plt.plot(x, y, 'o')\n",
    "plt.xlabel(\"x\")\n",
    "plt.ylabel(\"y\")\n",
    "plt.title(\"Plot\")\n",
    "plt.show( )"
   ]
  },
  {
   "cell_type": "markdown",
   "metadata": {},
   "source": [
    "## Scatter Plots and Regression\n",
    "The `scatter()` function is used to create a scatter plot between two lists of numbers, x and y. The only difference between this plot and the plots we created in the previous ceel is that here we use the `scatter()` function instead of the `plot()` function. \n",
    "\n",
    "The `pandas` library is imported to use to `read_csv` command.\n",
    "\n",
    "The linear regression calculations are performed using the `linregress` function from the `scipy` library."
   ]
  },
  {
   "cell_type": "code",
   "execution_count": 335,
   "metadata": {},
   "outputs": [
    {
     "name": "stdout",
     "output_type": "stream",
     "text": [
      "slope = 241\n",
      "intercept = 974\n",
      "R Value =  0.967\n",
      "P-value =  0.0\n",
      "Standard Error =  11.498\n"
     ]
    },
    {
     "data": {
      "image/png": "[encoded data removed]",
      "text/plain": [
       "<Figure size 432x288 with 1 Axes>"
      ]
     },
     "metadata": {
      "needs_background": "light"
     },
     "output_type": "display_data"
    },
    {
     "name": "stdout",
     "output_type": "stream",
     "text": [
      "0\n"
     ]
    }
   ],
   "source": [
    "# Import the numpy, the matplotlib.pyplot, pandas and scipy libraries\n",
    "import numpy as np\n",
    "import matplotlib.pyplot as plt\n",
    "import pandas as pd\n",
    "from scipy import stats\n",
    "\n",
    "df = pd.read_csv('harvard_undergraduate_tuition.csv', delimiter = ',')\n",
    "list = ['Room', 'Board', 'Tuition', 'Health Services', 'Student Services', 'Total']\n",
    "\n",
    "\n",
    "k = 0\n",
    "n = 33\n",
    "num = np.zeros([n], dtype = int)\n",
    "\n",
    "for i in range(1, n):\n",
    "    num[i] = num[i - 1] + 1\n",
    "\n",
    "def scatter_plot():\n",
    "    for j in list:\n",
    "        j = df[df['component'].str.contains(j)]\n",
    "        year = j['year']\n",
    "        cost = j['cost']\n",
    "        plt.plot(year, cost, label = list[k])\n",
    "        k = k + 1\n",
    "        plt.xticks(rotation = 45)\n",
    "        plt.xlabel('Years after 1985')\n",
    "        plt.ylabel('Cost')\n",
    "        plt.legend()\n",
    "        \n",
    "#def lm_fit(x):\n",
    "    \n",
    "lm = df[df['component'].str.contains('Room')]\n",
    "year = lm['year']\n",
    "num = np.zeros([len(year)], dtype = int)\n",
    "for i in range(1, len(year)):\n",
    "    num[i] = num[i - 1] + 1\n",
    "cost = lm['cost']\n",
    "slope, intercept, r_value, p_value, std_err = stats.linregress(num, cost)\n",
    "print('slope =', int(slope))\n",
    "print('intercept =', int(intercept))\n",
    "print('R Value = ', round(r_value, 3))\n",
    "print('P-value = ', round(p_value, 3))\n",
    "print('Standard Error = ', round(std_err, 3))\n",
    "#plt.scatter(year, cost)\n",
    "plt.plot(num, cost, '+')\n",
    "plt.plot(slope*num + intercept)\n",
    "plt.show()\n",
    "print(num[0])\n",
    "  \n",
    "#scatter_plot()\n",
    "#lm_fit(Total)\n",
    "#slope, intercept, r_value, p_value, std_err = stats.linregress(num, cost)\n",
    "#print(slope, intercept, r_value, p_value, std_err)"
   ]
  },
  {
   "cell_type": "code",
   "execution_count": 2,
   "metadata": {},
   "outputs": [
    {
     "name": "stdout",
     "output_type": "stream",
     "text": [
      "2000\n",
      "2001\n",
      "2002\n",
      "2003\n",
      "2004\n",
      "2005\n",
      "2006\n",
      "2007\n",
      "2008\n",
      "2009\n",
      "2010\n",
      "2011\n",
      "2012\n",
      "2013\n",
      "2014\n",
      "2015\n",
      "2016\n",
      "2017\n"
     ]
    },
    {
     "data": {
      "image/png": "[encoded data removed]",
      "text/plain": [
       "<Figure size 432x288 with 1 Axes>"
      ]
     },
     "metadata": {
      "needs_background": "light"
     },
     "output_type": "display_data"
    }
   ],
   "source": [
    "# Import the numpy library and the matplotlib.pyplot library\n",
    "import numpy as np\n",
    "import matplotlib.pyplot as plt\n",
    "\n",
    "#w = 10\n",
    "#h = 10\n",
    "n = 19\n",
    "year = np.zeros([n], dtype = int)\n",
    "deaths = [159, 286, 338, 407, 496, 562, 654, 696, 750, 846, 857, 776, 822, 833, 834, 967, 1171, 1506, 1953]\n",
    "\n",
    "# Initialize array for year values\n",
    "year0 = 1999\n",
    "year[0] = year0\n",
    "\n",
    "for i in range(1, n):\n",
    "    year[i] = year[i - 1] + 1\n",
    "    print(year[i])\n",
    "\n",
    "#plt.figure(figsize = (w, h))\n",
    "plt.scatter(year, deaths, label = 'Opiod Deaths in NC', color = 'k', marker = \"o\")\n",
    "plt.show( )"
   ]
  },
  {
   "cell_type": "code",
   "execution_count": null,
   "metadata": {},
   "outputs": [],
   "source": [
    "import matplotlib.pyplot as plt\n",
    "import pandas as pd\n",
    "from scipy import stats\n",
    "\n",
    "df = pd.read_csv('harvard_undergraduate_tuition.csv', delimiter=',')\n",
    "rslt_df = df[df['component'] == \"Tuition\"] \n",
    "year = rslt_df['year']\n",
    "cost = rslt_df['cost']\n",
    "tuition_df = pd.DataFrame(year,cost)\n",
    "plt.scatter(year, cost)\n",
    "plt.show( )\n",
    "\n",
    "\n",
    "slope, intercept, r_value, p_value, std_err = stats.linregress(year, cost)\n",
    "print(slope, intercept, r_value, p_value, std_err)"
   ]
  },
  {
   "cell_type": "markdown",
   "metadata": {},
   "source": [
    "## Unit Conversion\n",
    "\n",
    "Write a program that will convert from degrees Celsius to degrees Fahrenheit."
   ]
  },
  {
   "cell_type": "code",
   "execution_count": null,
   "metadata": {},
   "outputs": [],
   "source": [
    "# Program convert from degrees Celsius to degrees Fahrenheit\n",
    "\n",
    "# Define the function for temperature conversion\n",
    "def temp_convert(x):\n",
    "    return round(1.8*x+32)\n",
    "\n",
    "# Print the column headings\n",
    "print('Celsius \\t', 'Fahrenheit')\n",
    "\n",
    "# For loop to print the table of temperatures\n",
    "for i in range(0, 46):\n",
    "    print( i, '\\t\\t', temp_convert(i)) # \\t for a tabe space"
   ]
  },
  {
   "cell_type": "markdown",
   "metadata": {},
   "source": [
    "## Investment Strategy\n",
    "\n",
    "Suppose a set of twins (we will call them Dana and Fatimah) both went to work at the age of 24 at the same company doing the same job. On their birthday each year (starting with their 25$^\\text{th}$ birthday), they received identical bonuses of \\$2000.  However, they decided to deal with their finances differently.\n",
    "\n",
    "Fatimah decided to invest her money early in life, and each year, she took her bonus and put it in a savings account that earned 6.6\\% annual interest. At the age of 34, Fatimah decided to live life and began spending her bonuses (beginning with the one she received at age 35). She did not, however, use any of the money she already had in her savings account.  She let it continue growing until she turned 65 years old, without putting in any additional money.\n",
    "\n",
    "Dana decided to have fun when she was young and spent her bonuses.  After she turned 34 and received her bonus, she realized that she should start thinking about the future and put some money away for retirement.  She began to invest her bonuses (starting with the one she received at age 35) in a savings account that earned 6.6\\% annual interest.  She did this until the age of 65, including the bonus she received on her 65$^\\text{th}$ birthday."
   ]
  },
  {
   "cell_type": "markdown",
   "metadata": {},
   "source": [
    "## Exercises\n",
    "\n",
    "1. Write a recursive formula to describe the amount of money Dana had in her account from age 25 to age 34."
   ]
  },
  {
   "cell_type": "markdown",
   "metadata": {},
   "source": [
    "2. Write a program to calculate the amount of money Dana had in her account each year starting with her 25$^\\text{th}$ birhtday and ending on her 34$^\\text{th}$ birthday."
   ]
  },
  {
   "cell_type": "code",
   "execution_count": null,
   "metadata": {},
   "outputs": [],
   "source": [
    "import numpy as np\n",
    "\n",
    "start_age = 25\n",
    "end_age = 34\n",
    "n = end_age - start_age + 1\n",
    "d = np.zeros([n])\n",
    "d[0] = 2000\n",
    "\n",
    "print('Year \\t\\t', 'Age \\t\\t', 'Amount in Savings for Dana')\n",
    "print(1, '\\t\\t', 25, '\\t\\t', d[0])\n",
    "for i in range(1, n):\n",
    "        d[i] = 1.066*d[i - 1] + 2000\n",
    "        print(i + 1, '\\t\\t', i + 25, '\\t\\t', round(d[i], 2))"
   ]
  },
  {
   "cell_type": "markdown",
   "metadata": {},
   "source": [
    "3. Write a recursive formula to describe the amount of money Dana had in her account from age 35 to age 65."
   ]
  },
  {
   "cell_type": "markdown",
   "metadata": {},
   "source": [
    "4. Write a program to calculate the amount of money Dana had in her account each year starting with her 35$^\\text{th}$ birhtday and ending on her 65$^\\text{th}$ birthday."
   ]
  },
  {
   "cell_type": "code",
   "execution_count": null,
   "metadata": {},
   "outputs": [],
   "source": [
    "import numpy as np\n",
    "\n",
    "start_age = 34\n",
    "end_age = 65\n",
    "n = end_age - start_age + 1\n",
    "d = np.zeros([n])\n",
    "d[0] = 27116.30\n",
    "\n",
    "print('Year \\t\\t', 'Age \\t\\t', 'Amount in Savings for Dana')\n",
    "for i in range(1, n):\n",
    "    d[i] = round(1.066*d[i - 1], 2)\n",
    "    print(i + 10, '\\t\\t', i + 34, '\\t\\t',  d[i])"
   ]
  },
  {
   "cell_type": "markdown",
   "metadata": {},
   "source": [
    "4. Write a program to calculate the amount of money Dana had in her account each year starting with her 25$^\\text{th}$ birhtday and ending on her 65$^\\text{th}$ birthday."
   ]
  },
  {
   "cell_type": "code",
   "execution_count": null,
   "metadata": {},
   "outputs": [],
   "source": [
    "import numpy as np\n",
    "\n",
    "start_age = 25\n",
    "end_age = 65\n",
    "n = end_age - start_age + 1\n",
    "d = np.zeros([n])\n",
    "d[0] = 2000\n",
    "\n",
    "print('Year \\t\\t', 'Age \\t\\t', 'Amount in Savings for Dana')\n",
    "print(1, '\\t\\t', 25, '\\t\\t', a[0])\n",
    "for i in range(1, n):\n",
    "    if (i < 10):\n",
    "        d[i] = 1.066*d[i - 1] + 2000\n",
    "    else:\n",
    "        d[i] = 1.066*d[i - 1]\n",
    "    print(i + 1, '\\t\\t', i + 25, '\\t\\t', round(d[i], 2))"
   ]
  },
  {
   "cell_type": "markdown",
   "metadata": {},
   "source": [
    "4. Write a recursive formula to describe the amount of money Fatimah had in her account from age 25 to age 34."
   ]
  },
  {
   "cell_type": "markdown",
   "metadata": {},
   "source": [
    "5. Write a recursive formula to describe the amount of money Fatimah had in her account from age 35 to age 65."
   ]
  },
  {
   "cell_type": "markdown",
   "metadata": {},
   "source": [
    "6. Write a program to calculate the amount of money Fatimah had in her account each year starting with her 25$^\\text{th}$ birhtday and ending on her 65$^\\text{th}$ birthday."
   ]
  },
  {
   "cell_type": "code",
   "execution_count": null,
   "metadata": {},
   "outputs": [],
   "source": [
    "import numpy as np\n",
    "\n",
    "start_age = 25\n",
    "end_age = 65\n",
    "n = end_age - start_age + 1\n",
    "f = np.zeros([n])\n",
    "f[0] = 2000\n",
    "\n",
    "print('Year \\t\\t', 'Age \\t\\t', 'Amount in Savings for Fatimah')\n",
    "print(1, '\\t\\t', 25, '\\t\\t', 0)\n",
    "for i in range(1, n):\n",
    "    if (i < 10):\n",
    "        f[i] = 0\n",
    "    else:\n",
    "        f[i] = 1.066*f[i - 1] + 2000\n",
    "    print(i + 1, '\\t\\t', i + 25, '\\t\\t', round(f[i], 2))"
   ]
  },
  {
   "cell_type": "markdown",
   "metadata": {},
   "source": [
    "6. Write a program to calculate the amount of money both Dana and Fatimah had in their accounts each year starting with their 25$^\\text{th}$ birhtday and ending on the 65$^\\text{th}$ birthday. Make a discete graph to display your results."
   ]
  },
  {
   "cell_type": "code",
   "execution_count": null,
   "metadata": {},
   "outputs": [],
   "source": [
    "import numpy as np\n",
    "import matplotlib.pyplot as plt\n",
    "\n",
    "start_age = 25\n",
    "end_age = 65\n",
    "n = end_age - start_age + 1\n",
    "d = np.zeros([n])\n",
    "f = np.zeros([n])\n",
    "num = np.zeros([n], dtype = int)\n",
    "\n",
    "for i in range(1, n):\n",
    "    num[i] = num[i - 1] + 1\n",
    "\n",
    "d[0] = 2000\n",
    "\n",
    "print('Year \\t\\t', 'Age \\t\\t', 'Amount in Savings for Dana \\t', 'Amount in Savings for Fatimah \\t')\n",
    "print(1, '\\t\\t', 25, '\\t\\t', d[0], '\\t\\t\\t', 0.0)\n",
    "for i in range(1, n):\n",
    "    if (i < 10):\n",
    "        d[i] = 1.066*d[i - 1] + 2000 \n",
    "        f[i] = 0\n",
    "    else:\n",
    "        d[i] = 1.066*d[i - 1] \n",
    "        f[i] = 1.066*f[i - 1] + 2000\n",
    "    print(i + 1, '\\t\\t', i + 25, '\\t\\t', round(d[i], 2), '\\t\\t\\t', round(f[i], 2))\n",
    "    \n",
    "plt.scatter(num, d, label = 'Dana', color = 'k', marker = \"o\")\n",
    "plt.scatter(num, f, label = 'Fatimah', color = 'r', marker = \"+\")\n",
    "plt.legend()\n",
    "plt.show( )"
   ]
  },
  {
   "cell_type": "markdown",
   "metadata": {},
   "source": [
    "## Stocked Pond"
   ]
  },
  {
   "cell_type": "code",
   "execution_count": 358,
   "metadata": {},
   "outputs": [
    {
     "data": {
      "image/png": "[encoded data removed]",
      "text/plain": [
       "<Figure size 432x288 with 1 Axes>"
      ]
     },
     "metadata": {
      "needs_background": "light"
     },
     "output_type": "display_data"
    }
   ],
   "source": [
    "import numpy as np\n",
    "import matplotlib.pyplot as plt\n",
    "import random\n",
    "\n",
    "# Inititalize lists\n",
    "n = 25\n",
    "f0 = 15000\n",
    "years = 25\n",
    "\n",
    "t = np.zeros([n], dtype = int)\n",
    "f = np.zeros([n], dtype = int)\n",
    "\n",
    "f[0] = f0\n",
    "for i in range(1, n):\n",
    "    t[i] = i\n",
    "\n",
    "for i in range(n):\n",
    "    num_fish_caught = 0\n",
    "    for j in range(f[i - 1]):\n",
    "        roll = random.randint(1,6)\n",
    "        if roll == 4:\n",
    "            num_fish_caught = num_fish_caught + 1\n",
    "    #if i > 0:\n",
    "        #print(num_fish_caught/f[i - 1])\n",
    "    f[i] = f[i - 1] - num_fish_caught + 10000\n",
    "plt.plot(t, f/1000, 'o')\n",
    "#plt.plot(t, -45*np.exp(-t/6)+60)\n",
    "plt.xlabel('Year')\n",
    "plt.ylabel('Number of Fish')\n",
    "plt.show()\n",
    "\n"
   ]
  },
  {
   "cell_type": "markdown",
   "metadata": {},
   "source": [
    "## Extreme Skydiving\n"
   ]
  },
  {
   "cell_type": "code",
   "execution_count": 361,
   "metadata": {},
   "outputs": [
    {
     "ename": "OverflowError",
     "evalue": "(34, 'Result too large')",
     "output_type": "error",
     "traceback": [
      "\u001b[0;31m---------------------------------------------------------------------------\u001b[0m",
      "\u001b[0;31mOverflowError\u001b[0m                             Traceback (most recent call last)",
      "\u001b[0;32m<ipython-input-361-98185f3609fe>\u001b[0m in \u001b[0;36m<module>\u001b[0;34m\u001b[0m\n\u001b[1;32m     46\u001b[0m     \u001b[0;31m# Acceleration\u001b[0m\u001b[0;34m\u001b[0m\u001b[0;34m\u001b[0m\u001b[0;34m\u001b[0m\u001b[0m\n\u001b[1;32m     47\u001b[0m     \u001b[0;32mif\u001b[0m \u001b[0mh_0\u001b[0m \u001b[0;34m>\u001b[0m \u001b[0;36m1000.0\u001b[0m\u001b[0;34m:\u001b[0m\u001b[0;34m\u001b[0m\u001b[0;34m\u001b[0m\u001b[0m\n\u001b[0;32m---> 48\u001b[0;31m         \u001b[0ma_0\u001b[0m \u001b[0;34m=\u001b[0m \u001b[0ma_i\u001b[0m\u001b[0;34m[\u001b[0m\u001b[0mj\u001b[0m \u001b[0;34m-\u001b[0m \u001b[0;36m1\u001b[0m\u001b[0;34m]\u001b[0m \u001b[0;34m+\u001b[0m \u001b[0;34m(\u001b[0m\u001b[0;34m-\u001b[0m\u001b[0;36m9.8\u001b[0m \u001b[0;34m+\u001b[0m \u001b[0mk_0\u001b[0m\u001b[0;34m*\u001b[0m\u001b[0mv_i\u001b[0m\u001b[0;34m[\u001b[0m\u001b[0mj\u001b[0m \u001b[0;34m-\u001b[0m \u001b[0;36m1\u001b[0m\u001b[0;34m]\u001b[0m\u001b[0;34m**\u001b[0m\u001b[0;36m2\u001b[0m\u001b[0;34m)\u001b[0m\u001b[0;34m*\u001b[0m\u001b[0mdelta_t\u001b[0m\u001b[0;34m\u001b[0m\u001b[0;34m\u001b[0m\u001b[0m\n\u001b[0m\u001b[1;32m     49\u001b[0m     \u001b[0;32melse\u001b[0m\u001b[0;34m:\u001b[0m\u001b[0;34m\u001b[0m\u001b[0;34m\u001b[0m\u001b[0m\n\u001b[1;32m     50\u001b[0m         \u001b[0ma_0\u001b[0m \u001b[0;34m=\u001b[0m \u001b[0ma_i\u001b[0m\u001b[0;34m[\u001b[0m\u001b[0mj\u001b[0m \u001b[0;34m-\u001b[0m \u001b[0;36m1\u001b[0m\u001b[0;34m]\u001b[0m \u001b[0;34m+\u001b[0m \u001b[0;34m(\u001b[0m\u001b[0;34m-\u001b[0m\u001b[0;36m9.8\u001b[0m \u001b[0;34m+\u001b[0m \u001b[0mk_1\u001b[0m\u001b[0;34m*\u001b[0m\u001b[0mv_i\u001b[0m\u001b[0;34m[\u001b[0m\u001b[0mj\u001b[0m \u001b[0;34m-\u001b[0m \u001b[0;36m1\u001b[0m\u001b[0;34m]\u001b[0m\u001b[0;34m**\u001b[0m\u001b[0;36m2\u001b[0m\u001b[0;34m)\u001b[0m\u001b[0;34m*\u001b[0m\u001b[0mdelta_t\u001b[0m\u001b[0;34m\u001b[0m\u001b[0;34m\u001b[0m\u001b[0m\n",
      "\u001b[0;31mOverflowError\u001b[0m: (34, 'Result too large')"
     ]
    }
   ],
   "source": [
    "import numpy as np\n",
    "import matplotlib.pyplot as plt\n",
    "\n",
    "# Initialize lists for time, acceleration, velocity and height\n",
    "t_i = []\n",
    "a_i = []\n",
    "v_i = []\n",
    "h_i = []\n",
    "\n",
    "# Initial values for time, change in time, acceleration, velocity and height\n",
    "t_0 = 0.0\n",
    "delta_t = 0.1\n",
    "a_0 = 0.0\n",
    "v_0 = 0.0\n",
    "h_0 = 2000.0\n",
    "\n",
    "# Initialize first element in the lists for time, acceleration, velocity and height\n",
    "t_i.append(t_0)\n",
    "a_i.append(a_0)\n",
    "v_i.append(v_0)\n",
    "h_i.append(h_0)\n",
    "\n",
    "# Values for air resistence\n",
    "C = 0.57\n",
    "rho = 1.3\n",
    "m = 75\n",
    "S_0 = 0.7\n",
    "S_1 = 25\n",
    "k_0 = (C*rho*S_0)/(2*m)\n",
    "k_1 = (C*rho*S_1)/(2*m)\n",
    "\n",
    "# Initialize list counter\n",
    "j = 0\n",
    "\n",
    "#print('i\\t', 'Height\\t\\t', 'Velocity\\t\\t', 'Air Resistence\\t' 'Acceleration')\n",
    "\n",
    "while h_0 >= 0.0:\n",
    "    \n",
    "    # Updae list counter\n",
    "    j = j + 1\n",
    "    \n",
    "    # Time step\n",
    "    t_0 = t_0 + delta_t\n",
    "    t_i.append(round(t_0, 2))\n",
    "    \n",
    "    # Acceleration\n",
    "    if h_0 > 1000.0:\n",
    "        a_0 = a_i[j - 1] + (-9.8 + k_0*v_i[j - 1]**2)*delta_t\n",
    "    else:\n",
    "        a_0 = a_i[j - 1] + (-9.8 + k_1*v_i[j - 1]**2)*delta_t\n",
    "        #print('Changed k', j, v_i[j-1], h_i[j-1])\n",
    "    a_i.append(a_0)\n",
    "    \n",
    "    # Calculate the current velocity and update \n",
    "    v_0 = v_i[j - 1] + a_i[j - 1]*delta_t\n",
    "    v_i.append(v_0)\n",
    "    \n",
    "    # Calculate the current height and update \n",
    "    h_0 = h_i[j - 1] + v_i[j - 1]*delta_t\n",
    "    h_i.append(h_0)\n",
    "    \n",
    "    # Print the list values\n",
    "    #print(j - 1, '\\t', round(h_i[j - 1], 2), '\\t\\t', round(v_i[j - 1], 2), '\\t\\t\\t', round(k, 4),'\\t', round(a_i[j - 1], 3))\n",
    "    \n",
    "plt.plot(t_i, h_i, 'o')\n",
    "plt.show()\n",
    "plt.plot(t_i, np.abs(v_i), 'o')\n",
    "plt.show()\n",
    "#plt.plot(t_i, a_i, 'o')\n",
    "#plt.show()"
   ]
  },
  {
   "cell_type": "code",
   "execution_count": 360,
   "metadata": {},
   "outputs": [
    {
     "data": {
      "image/png": "[encoded data removed]",
      "text/plain": [
       "<Figure size 432x288 with 1 Axes>"
      ]
     },
     "metadata": {
      "needs_background": "light"
     },
     "output_type": "display_data"
    },
    {
     "data": {
      "image/png": "[encoded data removed]",
      "text/plain": [
       "<Figure size 432x288 with 1 Axes>"
      ]
     },
     "metadata": {
      "needs_background": "light"
     },
     "output_type": "display_data"
    },
    {
     "data": {
      "image/png": "[encoded data removed]",
      "text/plain": [
       "<Figure size 432x288 with 1 Axes>"
      ]
     },
     "metadata": {
      "needs_background": "light"
     },
     "output_type": "display_data"
    }
   ],
   "source": [
    "import numpy as np\n",
    "import matplotlib.pyplot as plt\n",
    "\n",
    "# Initialize lists for time, acceleration, velocity and height\n",
    "time = []\n",
    "height = []\n",
    "velocity = []\n",
    "\n",
    "# Initial values for time, change in time, acceleration, velocity and height\n",
    "delta_t = 0.1\n",
    "t_i = 0.0\n",
    "v_i = 0.0\n",
    "h_i = 2000.0\n",
    "\n",
    "# Initialize first element in the lists for time, acceleration, velocity and height\n",
    "time.append(t_i)\n",
    "height.append(h_i)\n",
    "velocity.append(v_i)\n",
    "\n",
    "# Values for air resistence\n",
    "C = 0.57\n",
    "rho = 1.3\n",
    "m = 75\n",
    "S_0 = 0.7\n",
    "S_1 = 25\n",
    "k_0 = (C*rho*S_0)/(2*m)\n",
    "k_1 = (C*rho*S_1)/(2*m)\n",
    "\n",
    "# Initialize list counter\n",
    "i = 0\n",
    "\n",
    "while h_i >= 0:\n",
    "    i = i + 1\n",
    "    \n",
    "    t_i = t_i + delta_t\n",
    "    time.append(t_i)\n",
    "    \n",
    "    if h_i > 650:\n",
    "        #v_i = velocity[i - 1] + (-9.8 + k_0*velocity[i - 1]**2)*delta_t\n",
    "        v_i = velocity[i - 1] + (-9.8 + (C*1.3*(0.9999)**height[i - 1]*S_0)/(2*m)*velocity[i - 1]**2)*delta_t\n",
    "    else:\n",
    "        #v_i = velocity[i - 1] + (-9.8 + k_1*velocity[i - 1]**2)*delta_t\n",
    "        v_i = velocity[i - 1] + (-9.8 + (C*1.3*(0.9999)**height[i - 1]*S_1)/(2*m)*velocity[i - 1]**2)*delta_t\n",
    "    velocity.append(v_i)\n",
    "    \n",
    "    h_i = height[i - 1] + velocity[i - 1]*delta_t\n",
    "    height.append(h_i)\n",
    "    \n",
    "    #print(i, round(time[i - 1], 2), round(ht[i - 1], 3), round(vel[i - 1], 3))\n",
    "\n",
    "plt.plot(time, height, 'o')\n",
    "plt.xlabel('Time')\n",
    "plt.ylabel('Height')\n",
    "plt.title('Time vs. Height')\n",
    "plt.show()\n",
    "plt.xlabel('Time')\n",
    "plt.ylabel('Velocity')\n",
    "plt.title('Time vs. Velocity')\n",
    "plt.plot(time, velocity, 'o')\n",
    "plt.show()\n",
    "plt.xlabel('Time')\n",
    "plt.ylabel('Speed')\n",
    "plt.title('Time vs. Speed')\n",
    "plt.plot(time, np.abs(velocity), 'o')\n",
    "plt.show()"
   ]
  },
  {
   "cell_type": "markdown",
   "metadata": {},
   "source": [
    "## Felix"
   ]
  },
  {
   "cell_type": "code",
   "execution_count": 362,
   "metadata": {},
   "outputs": [
    {
     "data": {
      "image/png": "[encoded data removed]",
      "text/plain": [
       "<Figure size 432x288 with 1 Axes>"
      ]
     },
     "metadata": {
      "needs_background": "light"
     },
     "output_type": "display_data"
    },
    {
     "data": {
      "image/png": "[encoded data removed]",
      "text/plain": [
       "<Figure size 432x288 with 1 Axes>"
      ]
     },
     "metadata": {
      "needs_background": "light"
     },
     "output_type": "display_data"
    },
    {
     "data": {
      "image/png": "[encoded data removed]",
      "text/plain": [
       "<Figure size 432x288 with 1 Axes>"
      ]
     },
     "metadata": {
      "needs_background": "light"
     },
     "output_type": "display_data"
    }
   ],
   "source": [
    "import numpy as np\n",
    "import matplotlib.pyplot as plt\n",
    "\n",
    "# Initialize lists for time, acceleration, velocity and height\n",
    "time = []\n",
    "height = []\n",
    "velocity = []\n",
    "\n",
    "# Initial values for time, change in time, acceleration, velocity and height\n",
    "delta_t = 0.1\n",
    "t_i = 0.0\n",
    "v_i = 0.0\n",
    "h_i = 40000.0\n",
    "\n",
    "# Initialize first element in the lists for time, acceleration, velocity and height\n",
    "time.append(t_i)\n",
    "height.append(h_i)\n",
    "velocity.append(v_i)\n",
    "\n",
    "# Values for air resistence\n",
    "C = 0.57\n",
    "rho = 1.3\n",
    "m = 75\n",
    "S_0 = 0.7\n",
    "S_1 = 25\n",
    "k_0 = (C*rho*S_0)/(2*m)\n",
    "k_1 = (C*rho*S_1)/(2*m)\n",
    "\n",
    "# Initialize list counter\n",
    "i = 0\n",
    "\n",
    "while h_i >= 0:\n",
    "    i = i + 1\n",
    "    \n",
    "    t_i = t_i + delta_t\n",
    "    time.append(t_i)\n",
    "    \n",
    "    if h_i > 1000:\n",
    "        v_i = velocity[i - 1] + (-9.8 + (C*rho*0.9999**(h_i)*S_0)/(2*m)*velocity[i - 1]**2)*delta_t\n",
    "    else:\n",
    "        v_i = velocity[i - 1] + (-9.8 + (C*rho*0.9999**(h_i)*S_1)/(2*m)*velocity[i - 1]**2)*delta_t\n",
    "    velocity.append(v_i)\n",
    "    \n",
    "    h_i = height[i - 1] + velocity[i - 1]*delta_t\n",
    "    height.append(h_i)\n",
    "    \n",
    "    #print(i, round(time[i - 1], 2), round(ht[i - 1], 3), round(vel[i - 1], 3))\n",
    "\n",
    "plt.plot(time, height, 'o')\n",
    "plt.xlabel('Time')\n",
    "plt.ylabel('Height')\n",
    "plt.title('Time vs. Height')\n",
    "plt.show()\n",
    "plt.xlabel('Time')\n",
    "plt.ylabel('Velocity')\n",
    "plt.title('Time vs. Velocity')\n",
    "plt.plot(time, velocity, 'o')\n",
    "plt.show()\n",
    "plt.xlabel('Time')\n",
    "plt.ylabel('Speed')\n",
    "plt.title('Time vs. Speed')\n",
    "plt.plot(time, np.abs(velocity), 'o')\n",
    "plt.show()"
   ]
  },
  {
   "cell_type": "code",
   "execution_count": 325,
   "metadata": {},
   "outputs": [
    {
     "name": "stdout",
     "output_type": "stream",
     "text": [
      "0.0\n",
      "2.5\n",
      "5.0\n",
      "7.5\n",
      "10.0\n"
     ]
    }
   ],
   "source": [
    "import numpy as np\n",
    "import matplotlib.pyplot as plt\n",
    "\n",
    "x0 = 0\n",
    "y0 = 100\n",
    "xn = 10\n",
    "n = 5\n",
    "\n",
    "# Create the list for the x values \n",
    "x = np.linspace(x0, xn, n)\n",
    "\n",
    "for i in range(5):\n",
    "    print(x[i])"
   ]
  },
  {
   "cell_type": "code",
   "execution_count": null,
   "metadata": {},
   "outputs": [],
   "source": []
  }
 ],
 "metadata": {
  "kernelspec": {
   "display_name": "Python 3",
   "language": "python",
   "name": "python3"
  },
  "language_info": {
   "codemirror_mode": {
    "name": "ipython",
    "version": 3
   },
   "file_extension": ".py",
   "mimetype": "text/x-python",
   "name": "python",
   "nbconvert_exporter": "python",
   "pygments_lexer": "ipython3",
   "version": "3.7.4"
  }
 },
 "nbformat": 4,
 "nbformat_minor": 2
}
